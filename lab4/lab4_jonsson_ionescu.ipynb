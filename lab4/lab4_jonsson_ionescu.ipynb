{
 "cells": [
  {
   "cell_type": "markdown",
   "metadata": {},
   "source": [
    "# Lab 4: Pointwise Mutual Information\n",
    "\n",
    "This lab is about applications of _Pointwise Mutual Information_ (PMI) in natural language processing.\n",
    "\n",
    "\n",
    "### Tasks\n",
    "\n",
    "1. Find **collocations** with PMI.\n",
    "2. Create **dense vector representations** for words (also known as **word embeddings**) by taking the singular value decomposition of a PMI co-occurence matrix.\n",
    "\n",
    "### Rules\n",
    "* The lab exercises should be made in **groups of two people**.\n",
    "\n",
    "* The deadline is **Sunday 10 Dec 23:59**.\n",
    "\n",
    "* The assignment should submitted to **Blackboard** as `.ipynb`. Only **one submission per group**.\n",
    "\n",
    "* The **filename** should be `lab4_lastname1_lastname2.ipynb`, so for example `lab4_Levy_Goldberg.ipynb`.\n",
    "\n",
    "* The notebook is graded on a scale of **0-100**. The number of points for each question is indicated in parantheses. \n",
    "\n",
    "Notes on implementation:\n",
    "\n",
    "* You should **write your code and answers in this iPython Notebook** (see http://ipython.org/notebook.html for reference material). If you have problems, please contact your teaching assistant.\n",
    "\n",
    "* Use only **one cell for code** and **one cell for markdown** answers!    \n",
    "\n",
    "    * Put all code in the cell with the `# YOUR CODE HERE` comment.\n",
    "    \n",
    "    * For theoretical question, put your solution in the YOUR ANSWER HERE cell.\n",
    "    \n",
    "* Test your code and **make sure we can run your notebook**\n",
    "\n"
   ]
  },
  {
   "cell_type": "code",
   "execution_count": 1,
   "metadata": {},
   "outputs": [],
   "source": [
    "from collections import defaultdict, Counter\n",
    "import numpy as np\n",
    "import matplotlib.pyplot as plt\n",
    "%matplotlib inline"
   ]
  },
  {
   "cell_type": "markdown",
   "metadata": {},
   "source": [
    "# PMI\n",
    "\n",
    "**Point-wise mutual information** is a measure of association used in information theory and statistics. In the words of [Jurafsky and Martin](https://web.stanford.edu/~jurafsky/slp3/15.pdf):\n",
    "\n",
    "> The point-wise mutual information is a measure of how often two events $x$ and $y$ occur, compared with what we would expect if they were independent.\n",
    "\n",
    "It is formally defined as follows. Let $x$ and $y$ be outcomes of discrete random variables $X$ and $Y$. Then the point-wise mutual information between $x$ and $y$ is \n",
    "\n",
    "$$PMI(x,y) = \\log\\frac{p(x,y)}{p(x)p(y)}.$$\n",
    "\n",
    "The values for $PMI$ range between minus and plus infinity. Large positive values indicate that $x$ and $y$ are strongly associated. A $PMI$ of zero means $x$ and $y$ are completely independent. And because of the logarithm, the values can also be negative, which indicates that $x$ and $y$ are co-occurring _less often_ than we would expect by chance. Negative values tend to be unreliable though, often resulting from the lack of coocurence statistics for $x$ and $y$. A more robust measure therefore is a variant of $PMI$ called the $Positive$ $PMI$:\n",
    "\n",
    "$$PPMI(x,y) = \\max(0, PMI(x, y)).$$\n",
    "\n",
    "In NLP applications, the $x$ and $y$ in the definition above are generally words, and the distributions based on their occurence in a text-corpus. Therefore from now on, let's refer to $x$ and $y$ as $w_i$ and $w_j$.\n",
    "\n",
    "----- \n",
    "\n",
    "You can read more about $PMI$ and $PPMI$ in the following sources:\n",
    "\n",
    "* [Jurafsky and Martin 15.2](https://web.stanford.edu/~jurafsky/slp3/15.pdf) is dedicated to $PMI$\n",
    "* The [Wikipedia entry on PMI](https://en.wikipedia.org/wiki/Pointwise_mutual_information) (it even has a language-related application of $PMI$)\n",
    "\n",
    "----- \n"
   ]
  },
  {
   "cell_type": "markdown",
   "metadata": {},
   "source": [
    "# Co-occurrence statistics\n",
    "\n",
    "To compute the $PMI$ of two words $w_i$ and $w_j$ we need the probabilities $p(w_i)$, $p(w_j)$ and $p(w_i,w_j)$. What are they?\n",
    "\n",
    "### Unigram\n",
    "\n",
    "The probabilites $p(w_i)$ and $p(w_j)$ are the probabilities of the words occuring by themselves in the corpus: they are the unigram probabilities of $w_i$ and $w_j$. We have seen before how to get these.\n",
    "\n",
    "### Skip-gram\n",
    "\n",
    "The probability $p(w_i, w_j)$ is the probability of $w_i$ and $w_j$ co-occuring together in the corpus. Co-occurrence is often modelled with a **skip-gram** model. A skip-gram collects the co-occurence statistics of a word with the words that surround it within some fixed **context window**, to the left of the word, and to the right of the word. \n",
    "\n",
    "Consider the following fragment of a sentence in which a context window of 3 words around the word _fox_ are shown:\n",
    "\n",
    "> ... the quick brown **fox** jumped over the ...\n",
    "\n",
    "The skipgram counts that we then extract from this fragment are \n",
    "\n",
    "$$C(quick, fox) = C(brown, fox)= C(jumped, fox) = C(over, fox) = 1,$$\n",
    "\n",
    "and \n",
    "\n",
    "$$C(the, fox) = 2.$$\n",
    "\n",
    "After all theses counts have been collected, we normalize and divide, giving probabilities $p(quick, fox), p(brown, fox)$ etc. such that\n",
    "\n",
    "$$\\sum_{\\{w,v\\}} p(w,v) = 1.$$\n",
    "\n",
    "**[Note]** The word-pairs $\\{w,v\\}$ are **unordered**. So $p(quick, fox) = p(fox, quick)$.\n",
    "\n",
    "----\n",
    "\n",
    "We have provided you below with all the code nessecary to obtain these distributions. Read this through, and pay some attention to the methods that they are provided with. These will be usefull in some of the questions.\n",
    "\n",
    "---"
   ]
  },
  {
   "cell_type": "markdown",
   "metadata": {},
   "source": [
    "## Read in data\n",
    "\n",
    "As always, we will obtain the distributions from a large text corpus. To read in such a text we provide you with the following class:"
   ]
  },
  {
   "cell_type": "code",
   "execution_count": 2,
   "metadata": {},
   "outputs": [],
   "source": [
    "class TextData:\n",
    "    \"\"\"\n",
    "    Stores text data with additional attributes.\n",
    "    :param fname: a path to a txt file\n",
    "    \"\"\"\n",
    "    def __init__(self, fname):\n",
    "        self._fname = fname\n",
    "        self._data = []\n",
    "        self._w2i = defaultdict(lambda: len(self._w2i))\n",
    "        self._i2w = dict()\n",
    "        self._counter = Counter()\n",
    "        self._ntokens = 0    # number of tokens in dataset\n",
    "        \n",
    "        self._read()\n",
    "        \n",
    "    def _read(self):\n",
    "        with open(self._fname, \"r\") as fh:\n",
    "            for line in fh:\n",
    "                tokens = line.strip().lower().split()\n",
    "                self._data.append(tokens)\n",
    "                self._counter.update(tokens)\n",
    "        \n",
    "        # Store number of tokens in the text\n",
    "        self._ntokens = sum(self._counter.values())\n",
    "        \n",
    "        # Store the words in w2i in order of frequency from high to low\n",
    "        for word, _ in self._counter.most_common(self._ntokens):\n",
    "            self._i2w[self._w2i[word]] = word\n",
    "        \n",
    "    def __len__(self):\n",
    "        \"\"\"\n",
    "        Number of tokens in the dataset\n",
    "        \"\"\"\n",
    "        return self._ntokens\n",
    "    \n",
    "    @property\n",
    "    def data(self):\n",
    "        \"\"\"\n",
    "        The data as list of lists\n",
    "        \"\"\"\n",
    "        return self._data\n",
    "    \n",
    "    @property\n",
    "    def counter(self):\n",
    "        \"\"\"\n",
    "        The word-counts as counter\n",
    "        \"\"\"\n",
    "        return self._counter\n",
    "    \n",
    "    @property\n",
    "    def vocab_size(self):\n",
    "        \"\"\"\n",
    "        Number of words in the dataset\n",
    "        \"\"\"\n",
    "        return len(self._w2i)\n",
    "    \n",
    "    @property\n",
    "    def w2i(self):\n",
    "        \"\"\"\n",
    "        Word to index dictionary\n",
    "        Words are sorted in order of frequency from high to low\n",
    "        \"\"\"\n",
    "        return self._w2i\n",
    "    \n",
    "    @property\n",
    "    def i2w(self):\n",
    "        \"\"\"\n",
    "        Inverse dictionary of w2i: index to words\n",
    "        \"\"\"\n",
    "        return self._i2w"
   ]
  },
  {
   "cell_type": "markdown",
   "metadata": {},
   "source": [
    "## Unigram and Skipgram\n",
    "\n",
    "To train unigram and skipgram language models, you can use the following code."
   ]
  },
  {
   "cell_type": "code",
   "execution_count": 3,
   "metadata": {},
   "outputs": [],
   "source": [
    "class Unigram:\n",
    "    \"\"\"\n",
    "    A unigram language model\n",
    "    \"\"\"\n",
    "    def __init__(self, data):\n",
    "        self._data = data\n",
    "        self._unigram_counts = defaultdict(int)\n",
    "        self._unigram_probs = defaultdict(float)\n",
    "        self._unigram_counter = Counter()\n",
    "        self._unigram_distribution = Counter()\n",
    "        self._train()\n",
    "        \n",
    "    def _train(self):\n",
    "        \"\"\"\n",
    "        Trains the model trained on data\n",
    "        \"\"\"\n",
    "        # Get the word counts\n",
    "        for sent in self._data:\n",
    "            for word in sent:\n",
    "                self._unigram_counts[word] += 1\n",
    "            \n",
    "        # Normalize the word counts\n",
    "        s = sum(self._unigram_counts.values())\n",
    "        for word_pair, count in self._unigram_counts.items():\n",
    "            self._unigram_probs[word_pair] = count / s\n",
    "        \n",
    "        # There are some advantages to additionally use a Counter\n",
    "        self._unigram_counter = Counter(self._unigram_counts)\n",
    "        self._unigram_distribution = Counter(self._unigram_probs)\n",
    "        \n",
    "    def prob(self, w):\n",
    "        \"\"\"\n",
    "        Returns the unigram probability p(w)\n",
    "        \"\"\"\n",
    "        return self._unigram_probs[w]\n",
    "    \n",
    "        \n",
    "    def count(self, w):\n",
    "        \"\"\"\n",
    "        Returns the unigram count c(w)\n",
    "        \"\"\"\n",
    "        return self._unigram_counts[w]\n",
    "    \n",
    "    @property\n",
    "    def data(self):\n",
    "        \"\"\"\n",
    "        Returns the data\n",
    "        \"\"\"\n",
    "        return self._data\n",
    "\n",
    "    @property\n",
    "    def counter(self):\n",
    "        \"\"\"\n",
    "        Returns the unigram counts as Counter\n",
    "        \"\"\"\n",
    "        return self._unigram_counter\n",
    "    \n",
    "    @property\n",
    "    def distribution(self):\n",
    "        \"\"\"\n",
    "        Returns the unigram distribution as Counter\n",
    "        \"\"\"\n",
    "        return self._unigram_distribution\n",
    "    \n",
    "    \n",
    "class Skipgram:\n",
    "    \"\"\"\n",
    "    A skip-gram language model\n",
    "    Note: p(w,v) = p(v,w)\n",
    "    \"\"\"\n",
    "    def __init__(self, data, context_window=5):\n",
    "        self._data = data\n",
    "        self._context_window = context_window\n",
    "        self._skipgram_counts = defaultdict(int)\n",
    "        self._skipgram_probs = defaultdict(float)\n",
    "        self._skipgram_counter = Counter()\n",
    "        self._skipgram_distribution = Counter()\n",
    "        self._train()\n",
    "        \n",
    "    def _train(self):\n",
    "        \"\"\"\n",
    "        Trains the model\n",
    "        \"\"\"\n",
    "        # Get the co-occurrence counts\n",
    "        for sent in self._data:\n",
    "            for i in range(self._context_window, len(sent) - self._context_window):\n",
    "                context = [sent[i - j] for j in range(1, self._context_window + 1)] + \\\n",
    "                          [sent[i + j] for j in range(1, self._context_window + 1)]    \n",
    "                w = sent[i]\n",
    "                for v in context:\n",
    "                    word_pair = tuple(sorted([w, v])) # causes p(w,v) = p(v,w)\n",
    "                    self._skipgram_counts[word_pair] += 1\n",
    "            \n",
    "        # Turn the co-occurrence counts into probabilities\n",
    "        s = sum(self._skipgram_counts.values())\n",
    "        for word_pair, count in self._skipgram_counts.items():\n",
    "            self._skipgram_probs[word_pair] = count / s\n",
    "        \n",
    "        # There are some advantages to additionally use a Counter\n",
    "        self._skipgram_counter = Counter(self._skipgram_counts)\n",
    "        self._skipgram_distribution = Counter(self._skipgram_probs)\n",
    "        \n",
    "    def prob(self, w, v):\n",
    "        \"\"\"\n",
    "        Returns the skip-gram probability\n",
    "        Note: p(w,v) = p(v,w)\n",
    "        \"\"\"\n",
    "        word_pair = tuple(sorted([w,v]))\n",
    "        \n",
    "        return self._skipgram_probs[word_pair]\n",
    "    \n",
    "    def count(self, w, v):\n",
    "        \"\"\"\n",
    "        Returns the skip-gram counts count(w,v) = count(v,w)\n",
    "        \"\"\"\n",
    "        word_pair = tuple(sorted([w,v]))\n",
    "        \n",
    "        return self._skipgram_counts[word_pair]\n",
    "    \n",
    "    @property\n",
    "    def data(self):\n",
    "        \"\"\"\n",
    "        Returns the data\n",
    "        \"\"\"\n",
    "        return self._data\n",
    "    \n",
    "    @property\n",
    "    def context_window(self):\n",
    "        \"\"\"\n",
    "        Returns the context window size\n",
    "        \"\"\"\n",
    "        return self._context_window\n",
    "    \n",
    "    @property\n",
    "    def counter(self):\n",
    "        \"\"\"\n",
    "        Returns the skipgram counte as Counter,\n",
    "        so that we can use the method most_common.\n",
    "        \"\"\"\n",
    "        return self._skipgram_counter\n",
    "    \n",
    "    @property\n",
    "    def distribution(self):\n",
    "        \"\"\"\n",
    "        Returns the skipgram probs as Counter,\n",
    "        so that we can use the method most_common.\n",
    "        \"\"\"\n",
    "        return self._skipgram_distribution\n",
    "            "
   ]
  },
  {
   "cell_type": "markdown",
   "metadata": {},
   "source": [
    "## Text corpora\n",
    "\n",
    "We have the following text corpora availlable for you:\n",
    "* A fragment of the _Penn Treebank_ with around 900.000 tokens\n",
    "* A collection of _TedX_ talks with around 5 million tokens\n",
    "* A collection of _Wikipedia_ entries, contained around 83 million tokens"
   ]
  },
  {
   "cell_type": "markdown",
   "metadata": {},
   "source": [
    "The *Penn Treebank*:"
   ]
  },
  {
   "cell_type": "code",
   "execution_count": 4,
   "metadata": {},
   "outputs": [
    {
     "name": "stdout",
     "output_type": "stream",
     "text": [
      "CPU times: user 664 ms, sys: 20 ms, total: 684 ms\n",
      "Wall time: 754 ms\n",
      "Number of tokens:  887521\n",
      "Vocabulary size:  9999\n"
     ]
    }
   ],
   "source": [
    "%time ptb = TextData(\"ptb.txt\")\n",
    "print(\"Number of tokens: \", len(ptb))\n",
    "print(\"Vocabulary size: \", ptb.vocab_size)"
   ]
  },
  {
   "cell_type": "code",
   "execution_count": 5,
   "metadata": {},
   "outputs": [
    {
     "name": "stdout",
     "output_type": "stream",
     "text": [
      "CPU times: user 10.4 s, sys: 40 ms, total: 10.4 s\n",
      "Wall time: 10.4 s\n",
      "CPU times: user 244 ms, sys: 0 ns, total: 244 ms\n",
      "Wall time: 244 ms\n"
     ]
    }
   ],
   "source": [
    "%time ptb_skipgram = Skipgram(ptb.data)\n",
    "%time ptb_unigram = Unigram(ptb.data)"
   ]
  },
  {
   "cell_type": "markdown",
   "metadata": {},
   "source": [
    "The *TedX* talks:"
   ]
  },
  {
   "cell_type": "code",
   "execution_count": 6,
   "metadata": {},
   "outputs": [
    {
     "name": "stdout",
     "output_type": "stream",
     "text": [
      "CPU times: user 5.06 s, sys: 96 ms, total: 5.16 s\n",
      "Wall time: 5.23 s\n",
      "Number of tokens:  4466833\n",
      "Vocabulary size:  9999\n"
     ]
    }
   ],
   "source": [
    "%time ted = TextData(\"ted-unk.txt\")\n",
    "print(\"Number of tokens: \", len(ted))\n",
    "print(\"Vocabulary size: \", ted.vocab_size)"
   ]
  },
  {
   "cell_type": "code",
   "execution_count": 7,
   "metadata": {},
   "outputs": [
    {
     "name": "stdout",
     "output_type": "stream",
     "text": [
      "CPU times: user 48.7 s, sys: 108 ms, total: 48.8 s\n",
      "Wall time: 48.8 s\n",
      "CPU times: user 1.34 s, sys: 0 ns, total: 1.34 s\n",
      "Wall time: 1.34 s\n"
     ]
    }
   ],
   "source": [
    "%time ted_skipgram = Skipgram(ted.data)\n",
    "%time ted_unigram = Unigram(ted.data)"
   ]
  },
  {
   "cell_type": "markdown",
   "metadata": {},
   "source": [
    "The collection of *Wikipedia* entries: (This will take some time. Expect around 15 mins for the skipgram model.)"
   ]
  },
  {
   "cell_type": "code",
   "execution_count": 8,
   "metadata": {},
   "outputs": [
    {
     "ename": "MemoryError",
     "evalue": "",
     "output_type": "error",
     "traceback": [
      "\u001b[0;31m--------------------------------------------------------------------------\u001b[0m",
      "\u001b[0;31mMemoryError\u001b[0m                              Traceback (most recent call last)",
      "\u001b[0;32m<timed exec>\u001b[0m in \u001b[0;36m<module>\u001b[0;34m()\u001b[0m\n",
      "\u001b[0;32m<ipython-input-2-b6efab5f10db>\u001b[0m in \u001b[0;36m__init__\u001b[0;34m(self, fname)\u001b[0m\n\u001b[1;32m     12\u001b[0m         \u001b[0mself\u001b[0m\u001b[0;34m.\u001b[0m\u001b[0m_ntokens\u001b[0m \u001b[0;34m=\u001b[0m \u001b[0;36m0\u001b[0m    \u001b[0;31m# number of tokens in dataset\u001b[0m\u001b[0;34m\u001b[0m\u001b[0m\n\u001b[1;32m     13\u001b[0m \u001b[0;34m\u001b[0m\u001b[0m\n\u001b[0;32m---> 14\u001b[0;31m         \u001b[0mself\u001b[0m\u001b[0;34m.\u001b[0m\u001b[0m_read\u001b[0m\u001b[0;34m(\u001b[0m\u001b[0;34m)\u001b[0m\u001b[0;34m\u001b[0m\u001b[0m\n\u001b[0m\u001b[1;32m     15\u001b[0m \u001b[0;34m\u001b[0m\u001b[0m\n\u001b[1;32m     16\u001b[0m     \u001b[0;32mdef\u001b[0m \u001b[0m_read\u001b[0m\u001b[0;34m(\u001b[0m\u001b[0mself\u001b[0m\u001b[0;34m)\u001b[0m\u001b[0;34m:\u001b[0m\u001b[0;34m\u001b[0m\u001b[0m\n",
      "\u001b[0;32m<ipython-input-2-b6efab5f10db>\u001b[0m in \u001b[0;36m_read\u001b[0;34m(self)\u001b[0m\n\u001b[1;32m     17\u001b[0m         \u001b[0;32mwith\u001b[0m \u001b[0mopen\u001b[0m\u001b[0;34m(\u001b[0m\u001b[0mself\u001b[0m\u001b[0;34m.\u001b[0m\u001b[0m_fname\u001b[0m\u001b[0;34m,\u001b[0m \u001b[0;34m\"r\"\u001b[0m\u001b[0;34m)\u001b[0m \u001b[0;32mas\u001b[0m \u001b[0mfh\u001b[0m\u001b[0;34m:\u001b[0m\u001b[0;34m\u001b[0m\u001b[0m\n\u001b[1;32m     18\u001b[0m             \u001b[0;32mfor\u001b[0m \u001b[0mline\u001b[0m \u001b[0;32min\u001b[0m \u001b[0mfh\u001b[0m\u001b[0;34m:\u001b[0m\u001b[0;34m\u001b[0m\u001b[0m\n\u001b[0;32m---> 19\u001b[0;31m                 \u001b[0mtokens\u001b[0m \u001b[0;34m=\u001b[0m \u001b[0mline\u001b[0m\u001b[0;34m.\u001b[0m\u001b[0mstrip\u001b[0m\u001b[0;34m(\u001b[0m\u001b[0;34m)\u001b[0m\u001b[0;34m.\u001b[0m\u001b[0mlower\u001b[0m\u001b[0;34m(\u001b[0m\u001b[0;34m)\u001b[0m\u001b[0;34m.\u001b[0m\u001b[0msplit\u001b[0m\u001b[0;34m(\u001b[0m\u001b[0;34m)\u001b[0m\u001b[0;34m\u001b[0m\u001b[0m\n\u001b[0m\u001b[1;32m     20\u001b[0m                 \u001b[0mself\u001b[0m\u001b[0;34m.\u001b[0m\u001b[0m_data\u001b[0m\u001b[0;34m.\u001b[0m\u001b[0mappend\u001b[0m\u001b[0;34m(\u001b[0m\u001b[0mtokens\u001b[0m\u001b[0;34m)\u001b[0m\u001b[0;34m\u001b[0m\u001b[0m\n\u001b[1;32m     21\u001b[0m                 \u001b[0mself\u001b[0m\u001b[0;34m.\u001b[0m\u001b[0m_counter\u001b[0m\u001b[0;34m.\u001b[0m\u001b[0mupdate\u001b[0m\u001b[0;34m(\u001b[0m\u001b[0mtokens\u001b[0m\u001b[0;34m)\u001b[0m\u001b[0;34m\u001b[0m\u001b[0m\n",
      "\u001b[0;31mMemoryError\u001b[0m: "
     ]
    },
    {
     "ename": "NameError",
     "evalue": "name 'wiki' is not defined",
     "output_type": "error",
     "traceback": [
      "\u001b[0;31m--------------------------------------------------------------------------\u001b[0m",
      "\u001b[0;31mNameError\u001b[0m                                Traceback (most recent call last)",
      "\u001b[0;32m<ipython-input-8-fcd152663b45>\u001b[0m in \u001b[0;36m<module>\u001b[0;34m()\u001b[0m\n\u001b[1;32m      1\u001b[0m \u001b[0mget_ipython\u001b[0m\u001b[0;34m(\u001b[0m\u001b[0;34m)\u001b[0m\u001b[0;34m.\u001b[0m\u001b[0mrun_line_magic\u001b[0m\u001b[0;34m(\u001b[0m\u001b[0;34m'time'\u001b[0m\u001b[0;34m,\u001b[0m \u001b[0;34m'wiki = TextData(\"wiki-unk.txt\")'\u001b[0m\u001b[0;34m)\u001b[0m\u001b[0;34m\u001b[0m\u001b[0m\n\u001b[0;32m----> 2\u001b[0;31m \u001b[0mprint\u001b[0m\u001b[0;34m(\u001b[0m\u001b[0;34m\"Number of tokens: \"\u001b[0m\u001b[0;34m,\u001b[0m \u001b[0mlen\u001b[0m\u001b[0;34m(\u001b[0m\u001b[0mwiki\u001b[0m\u001b[0;34m)\u001b[0m\u001b[0;34m)\u001b[0m\u001b[0;34m\u001b[0m\u001b[0m\n\u001b[0m\u001b[1;32m      3\u001b[0m \u001b[0mprint\u001b[0m\u001b[0;34m(\u001b[0m\u001b[0;34m\"Vocabulary size: \"\u001b[0m\u001b[0;34m,\u001b[0m \u001b[0mwiki\u001b[0m\u001b[0;34m.\u001b[0m\u001b[0mvocab_size\u001b[0m\u001b[0;34m)\u001b[0m\u001b[0;34m\u001b[0m\u001b[0m\n",
      "\u001b[0;31mNameError\u001b[0m: name 'wiki' is not defined"
     ]
    }
   ],
   "source": [
    "%time wiki = TextData(\"wiki-unk.txt\")\n",
    "print(\"Number of tokens: \", len(wiki))\n",
    "print(\"Vocabulary size: \", wiki.vocab_size)"
   ]
  },
  {
   "cell_type": "code",
   "execution_count": null,
   "metadata": {},
   "outputs": [],
   "source": [
    "%time wiki_skipgram = Skipgram(wiki.data)\n",
    "%time wiki_unigram = Unigram(wiki.data)"
   ]
  },
  {
   "cell_type": "markdown",
   "metadata": {},
   "source": [
    "# 1. Collocations with PPMI (40 points)\n",
    "\n",
    "$PPMI$ can be used to find [collocations](https://en.wikipedia.org/wiki/Collocation); words that co-occur significantly more often than can be atrributed to chance. $PPMI$ is a natural measure for this task: the collocations are precisely the word-pairs $w_i$ and $w_j$ for which $PPMI(w_i,w_j)$ is high!\n",
    "\n",
    "Have a look at the bottom of the [PMI wikipedia entry](https://en.wikipedia.org/wiki/Pointwise_mutual_information): there it lists a number of such collocations found with $PMI$.\n",
    "\n",
    "You will try to find collocations in the text-data that we've provided you with. First, you will need a function that computes the $PPMI$ given a $p(x)$, $p(y)$ and $p(x,y)$.\n",
    "\n",
    "**(a)** Complete the function `PPMI` below. **(20 points)**"
   ]
  },
  {
   "cell_type": "code",
   "execution_count": 8,
   "metadata": {},
   "outputs": [],
   "source": [
    "def PPMI(unigram, skipgram, x, y):\n",
    "    import math\n",
    "    \"\"\"\n",
    "    Returns the positive PMI of x and y\n",
    "    \n",
    "        PPMI(x, y) = max(0, PMI(x, y))\n",
    "        \n",
    "    where PMI(x,y) is computed using the \n",
    "    unigram and skipgram language model\n",
    "        \n",
    "        PMI(x,y) = log [p(x,y) / p(x)p(y)]\n",
    "        \n",
    "    :param unigram: an instance of Unigram\n",
    "    :param skipgram: an instance of Skipgram\n",
    "    :returns ppmi: a float between 0 and +inf\n",
    "    \"\"\"\n",
    "    # in the case the skipgram prob == 0 then we would get a domain error for the log. In this case just return 0.\n",
    "    if skipgram.prob(x,y) == 0.0:\n",
    "        return 0.0 \n",
    "    \n",
    "    pmi = math.log(skipgram.prob(x,y)/(unigram.prob(x) * unigram.prob(y)))\n",
    "    ppmi = max([0, pmi])\n",
    "    return ppmi"
   ]
  },
  {
   "cell_type": "markdown",
   "metadata": {},
   "source": [
    "## PTB\n",
    "\n",
    "**(a)** Use the function you wrote to find collocations in the *Penn Treebank* dataset. Recall: these are word-pairs in the corpus that have a high $PPMI$. Print a list of at most 30 of word-pairs (and they don't all have to make total sense!).  **(5 points)**\n",
    "\n",
    "**[Hint]** You might find that highest $PPMI$ word-pairs are not really what you are looking for. They make no sense as collocations, for example due to noise arrising from insufficient statistics. In that case you should search a little bit further down the line, with words that have a little lower $PPMI$. Note for example that the collocations in the [PMI wikipedia entry](https://en.wikipedia.org/wiki/Pointwise_mutual_information) have PMI's between 8 and 11."
   ]
  },
  {
   "cell_type": "code",
   "execution_count": 9,
   "metadata": {
    "scrolled": true
   },
   "outputs": [
    {
     "name": "stdout",
     "output_type": "stream",
     "text": [
      "the word pair ipo-gitano has high collocation=12.690612311571964\n",
      "the word pair ipo-fromstein has high collocation=12.690612311571964\n",
      "the word pair ipo-punts has high collocation=12.690612311571964\n",
      "the word pair ipo-mlx has high collocation=12.690612311571964\n",
      "the word pair ipo-nahb has high collocation=12.690612311571964\n",
      "the word pair ipo-hydro-quebec has high collocation=12.690612311571964\n",
      "the word pair ipo-memotec has high collocation=12.690612311571964\n",
      "the word pair ipo-guterman has high collocation=12.690612311571964\n",
      "the word pair ipo-kia has high collocation=12.690612311571964\n",
      "the word pair ipo-cluett has high collocation=12.690612311571964\n",
      "the word pair gitano-fromstein has high collocation=12.690612311571964\n",
      "the word pair gitano-hydro-quebec has high collocation=12.690612311571964\n",
      "the word pair gitano-guterman has high collocation=12.690612311571964\n",
      "the word pair gitano-calloway has high collocation=11.997465131012019\n",
      "the word pair gitano-berlitz has high collocation=11.997465131012019\n",
      "the word pair gitano-kia has high collocation=12.690612311571964\n",
      "the word pair gitano-cluett has high collocation=12.690612311571964\n",
      "the word pair rake-rubens has high collocation=12.690612311571964\n",
      "the word pair rake-mlx has high collocation=12.690612311571964\n",
      "the word pair rake-nahb has high collocation=12.690612311571964\n",
      "the word pair rake-memotec has high collocation=12.690612311571964\n",
      "the word pair rake-snack-food has high collocation=11.997465131012019\n",
      "the word pair rake-sim has high collocation=11.997465131012019\n",
      "the word pair rake-regatta has high collocation=12.690612311571964\n",
      "the word pair rake-kia has high collocation=12.690612311571964\n",
      "the word pair rake-ssangyong has high collocation=11.997465131012019\n",
      "the word pair fromstein-guterman has high collocation=12.690612311571964\n",
      "the word pair fromstein-cluett has high collocation=12.690612311571964\n",
      "the word pair h.f.-ahmanson has high collocation=10.051554981956706\n",
      "the word pair centrust-gitano has high collocation=11.997465131012019\n",
      "the word pair centrust-fromstein has high collocation=11.997465131012019\n",
      "the word pair centrust-hydro-quebec has high collocation=11.997465131012019\n",
      "the word pair centrust-guterman has high collocation=11.997465131012019\n",
      "the word pair centrust-cluett has high collocation=11.997465131012019\n",
      "the word pair punts-rake has high collocation=12.690612311571964\n",
      "the word pair punts-rubens has high collocation=12.690612311571964\n",
      "the word pair punts-mlx has high collocation=12.690612311571964\n",
      "the word pair punts-nahb has high collocation=12.690612311571964\n",
      "the word pair punts-memotec has high collocation=12.690612311571964\n",
      "the word pair punts-snack-food has high collocation=11.997465131012019\n",
      "the word pair punts-sim has high collocation=11.997465131012019\n",
      "the word pair punts-regatta has high collocation=12.690612311571964\n",
      "the word pair punts-kia has high collocation=12.690612311571964\n",
      "the word pair pricings-non-u.s. has high collocation=10.205705661783963\n",
      "the word pair aer-cluett has high collocation=11.997465131012019\n",
      "the word pair metall-ig has high collocation=10.898852842343908\n",
      "the word pair alleviate-programmers has high collocation=10.205705661783963\n",
      "the word pair aga-khan has high collocation=10.359856341611222\n",
      "the word pair rubens-mlx has high collocation=12.690612311571964\n",
      "the word pair rubens-nahb has high collocation=12.690612311571964\n",
      "the word pair rubens-wachter has high collocation=11.997465131012019\n",
      "the word pair rubens-swapo has high collocation=11.997465131012019\n",
      "the word pair rubens-snack-food has high collocation=11.997465131012019\n",
      "the word pair rubens-sim has high collocation=11.997465131012019\n",
      "the word pair rubens-regatta has high collocation=12.690612311571964\n",
      "the word pair rubens-ssangyong has high collocation=11.997465131012019\n",
      "the word pair brouwer-kurt has high collocation=10.205705661783963\n",
      "the word pair lumpur-kuala has high collocation=10.408229925895437\n",
      "the word pair jeep-cherokee has high collocation=10.051554981956706\n",
      "the word pair caffeine-free-pepsi has high collocation=10.051554981956706\n",
      "the word pair mlx-nahb has high collocation=12.690612311571964\n",
      "the word pair mlx-hydro-quebec has high collocation=12.690612311571964\n",
      "the word pair mlx-guterman has high collocation=12.690612311571964\n",
      "the word pair mlx-regatta has high collocation=12.690612311571964\n",
      "the word pair mlx-kia has high collocation=12.690612311571964\n",
      "the word pair nahb-sim has high collocation=11.997465131012019\n",
      "the word pair nahb-regatta has high collocation=12.690612311571964\n",
      "the word pair nahb-kia has high collocation=12.690612311571964\n",
      "the word pair isler-skipper has high collocation=10.205705661783963\n",
      "the word pair hydro-quebec-fromstein has high collocation=12.690612311571964\n",
      "the word pair hydro-quebec-nahb has high collocation=12.690612311571964\n",
      "the word pair hydro-quebec-guterman has high collocation=12.690612311571964\n",
      "the word pair hydro-quebec-kia has high collocation=12.690612311571964\n",
      "the word pair hydro-quebec-cluett has high collocation=12.690612311571964\n",
      "the word pair banknote-fromstein has high collocation=11.997465131012019\n",
      "the word pair banknote-cluett has high collocation=11.997465131012019\n"
     ]
    },
    {
     "ename": "MemoryError",
     "evalue": "",
     "output_type": "error",
     "traceback": [
      "\u001b[0;31m---------------------------------------------------------------------------\u001b[0m",
      "\u001b[0;31mMemoryError\u001b[0m                               Traceback (most recent call last)",
      "\u001b[0;32m<ipython-input-9-fa551bd0e180>\u001b[0m in \u001b[0;36m<module>\u001b[0;34m()\u001b[0m\n\u001b[1;32m      6\u001b[0m         \u001b[0;31m# we only check the upper-triangle half of the matrix as the collocation(word_i,word_j)=collocation(word_j,word_i)\u001b[0m\u001b[0;34m\u001b[0m\u001b[0;34m\u001b[0m\u001b[0m\n\u001b[1;32m      7\u001b[0m         \u001b[0;32mif\u001b[0m \u001b[0mindex_j\u001b[0m \u001b[0;34m>\u001b[0m \u001b[0mindex_i\u001b[0m\u001b[0;34m:\u001b[0m\u001b[0;34m\u001b[0m\u001b[0m\n\u001b[0;32m----> 8\u001b[0;31m             \u001b[0mppmi\u001b[0m \u001b[0;34m=\u001b[0m \u001b[0mPPMI\u001b[0m\u001b[0;34m(\u001b[0m\u001b[0mptb_unigram\u001b[0m\u001b[0;34m,\u001b[0m \u001b[0mptb_skipgram\u001b[0m\u001b[0;34m,\u001b[0m \u001b[0mword_i\u001b[0m\u001b[0;34m,\u001b[0m \u001b[0mword_j\u001b[0m\u001b[0;34m)\u001b[0m\u001b[0;34m\u001b[0m\u001b[0m\n\u001b[0m\u001b[1;32m      9\u001b[0m             \u001b[0;32mif\u001b[0m \u001b[0mppmi\u001b[0m \u001b[0;34m>\u001b[0m \u001b[0mhigh_value\u001b[0m\u001b[0;34m:\u001b[0m\u001b[0;34m\u001b[0m\u001b[0m\n\u001b[1;32m     10\u001b[0m                 \u001b[0mprint\u001b[0m\u001b[0;34m(\u001b[0m\u001b[0;34m\"the word pair {}-{} has high collocation={}\"\u001b[0m\u001b[0;34m.\u001b[0m\u001b[0mformat\u001b[0m\u001b[0;34m(\u001b[0m\u001b[0mword_i\u001b[0m\u001b[0;34m,\u001b[0m \u001b[0mword_j\u001b[0m\u001b[0;34m,\u001b[0m \u001b[0mppmi\u001b[0m\u001b[0;34m)\u001b[0m\u001b[0;34m)\u001b[0m\u001b[0;34m\u001b[0m\u001b[0m\n",
      "\u001b[0;32m<ipython-input-8-e63daf68145a>\u001b[0m in \u001b[0;36mPPMI\u001b[0;34m(unigram, skipgram, x, y)\u001b[0m\n\u001b[1;32m     16\u001b[0m     \"\"\"\n\u001b[1;32m     17\u001b[0m     \u001b[0;31m# in the case the skipgram prob == 0 then we would get a domain error for the log. In this case just return 0.\u001b[0m\u001b[0;34m\u001b[0m\u001b[0;34m\u001b[0m\u001b[0m\n\u001b[0;32m---> 18\u001b[0;31m     \u001b[0;32mif\u001b[0m \u001b[0mskipgram\u001b[0m\u001b[0;34m.\u001b[0m\u001b[0mprob\u001b[0m\u001b[0;34m(\u001b[0m\u001b[0mx\u001b[0m\u001b[0;34m,\u001b[0m\u001b[0my\u001b[0m\u001b[0;34m)\u001b[0m \u001b[0;34m==\u001b[0m \u001b[0;36m0.0\u001b[0m\u001b[0;34m:\u001b[0m\u001b[0;34m\u001b[0m\u001b[0m\n\u001b[0m\u001b[1;32m     19\u001b[0m         \u001b[0;32mreturn\u001b[0m \u001b[0;36m0.0\u001b[0m\u001b[0;34m\u001b[0m\u001b[0m\n\u001b[1;32m     20\u001b[0m \u001b[0;34m\u001b[0m\u001b[0m\n",
      "\u001b[0;32m<ipython-input-3-f4e9262b5aad>\u001b[0m in \u001b[0;36mprob\u001b[0;34m(self, w, v)\u001b[0m\n\u001b[1;32m    107\u001b[0m         \u001b[0mword_pair\u001b[0m \u001b[0;34m=\u001b[0m \u001b[0mtuple\u001b[0m\u001b[0;34m(\u001b[0m\u001b[0msorted\u001b[0m\u001b[0;34m(\u001b[0m\u001b[0;34m[\u001b[0m\u001b[0mw\u001b[0m\u001b[0;34m,\u001b[0m\u001b[0mv\u001b[0m\u001b[0;34m]\u001b[0m\u001b[0;34m)\u001b[0m\u001b[0;34m)\u001b[0m\u001b[0;34m\u001b[0m\u001b[0m\n\u001b[1;32m    108\u001b[0m \u001b[0;34m\u001b[0m\u001b[0m\n\u001b[0;32m--> 109\u001b[0;31m         \u001b[0;32mreturn\u001b[0m \u001b[0mself\u001b[0m\u001b[0;34m.\u001b[0m\u001b[0m_skipgram_probs\u001b[0m\u001b[0;34m[\u001b[0m\u001b[0mword_pair\u001b[0m\u001b[0;34m]\u001b[0m\u001b[0;34m\u001b[0m\u001b[0m\n\u001b[0m\u001b[1;32m    110\u001b[0m \u001b[0;34m\u001b[0m\u001b[0m\n\u001b[1;32m    111\u001b[0m     \u001b[0;32mdef\u001b[0m \u001b[0mcount\u001b[0m\u001b[0;34m(\u001b[0m\u001b[0mself\u001b[0m\u001b[0;34m,\u001b[0m \u001b[0mw\u001b[0m\u001b[0;34m,\u001b[0m \u001b[0mv\u001b[0m\u001b[0;34m)\u001b[0m\u001b[0;34m:\u001b[0m\u001b[0;34m\u001b[0m\u001b[0m\n",
      "\u001b[0;31mMemoryError\u001b[0m: "
     ]
    }
   ],
   "source": [
    "# we define a high value\n",
    "high_value = 10\n",
    "\n",
    "for word_i, index_i in ptb.w2i.items():\n",
    "    for word_j, index_j in ptb.w2i.items():\n",
    "        # we only check the upper-triangle half of the matrix as the collocation(word_i,word_j)=collocation(word_j,word_i)\n",
    "        if index_j > index_i:\n",
    "            ppmi = PPMI(ptb_unigram, ptb_skipgram, word_i, word_j)\n",
    "            if ppmi > high_value:\n",
    "                print(\"the word pair {}-{} has high collocation={}\".format(word_i, word_j, ppmi))\n",
    "\n",
    "            \n"
   ]
  },
  {
   "cell_type": "markdown",
   "metadata": {},
   "source": [
    "## TedX\n",
    "\n",
    "**(b)** Use the function you wrote to find collocations in the *TedX* dataset. **(5 points)**"
   ]
  },
  {
   "cell_type": "code",
   "execution_count": null,
   "metadata": {
    "scrolled": true
   },
   "outputs": [],
   "source": [
    "### YOUR CODE HERE"
   ]
  },
  {
   "cell_type": "markdown",
   "metadata": {},
   "source": [
    "## Wikipedia\n",
    "\n",
    "**(c)** Find collocations in the *Wikipedia* dataset. **(5 points)**"
   ]
  },
  {
   "cell_type": "code",
   "execution_count": null,
   "metadata": {
    "scrolled": true
   },
   "outputs": [],
   "source": []
  },
  {
   "cell_type": "markdown",
   "metadata": {},
   "source": [
    "**[Optional]** Use the following template to query the model for PMI values for word-pairs. In particular, it is interesting to see what PMI our model assigns to the collocations in the PMI wikipedia entry:"
   ]
  },
  {
   "cell_type": "code",
   "execution_count": null,
   "metadata": {},
   "outputs": [],
   "source": [
    "# extend this list as you like\n",
    "wiki_collocations = [(\"puerto\", \"rico\"), (\"los\", \"angeles\"), (\"hong\", \"kong\"), (\"carbon\", \"dioxide\"),\n",
    "                     (\"star\", \"trek\"), (\"star\", \"wars\"), (\"nobel\", \"prize\"), (\"prize\", \"laureate\"), \n",
    "                     (\"donald\", \"knuth\"), (\"discrete\", \"mathematics\"), (\"the\", \"and\"), (\"of\", \"it\")] \n",
    "\n",
    "print(\"{}{}{}\".format(\"word 1\".ljust(15), \"word 2\".ljust(15), \"PMI\"))\n",
    "print(\"-----------------------------------------------\")\n",
    "for (w, v) in wiki_collocations:\n",
    "    print(\"{}{}{}\".format(w.ljust(15), v.ljust(15), PPMI(wiki_unigram, wiki_skipgram, w, v)))"
   ]
  },
  {
   "cell_type": "markdown",
   "metadata": {},
   "source": [
    "**(d)** Now that you have (hopefully) been succesful at finding some collocations, take a moment to compare the lists of word-pairs from above, for which $PPMI(w_i,w_j)$ is high, with the list of word-pairs for which $p(w_i,w_j)$ is high. **(5 points)**\n",
    "\n",
    "That means: \n",
    "* Print out a list of word-pairs for which $p(w_i,w_j)$ is high (the top 30 will suffice, for the corpus of your choice). \n",
    "* What difference do you see? Is the list of top $p(w_i,w_j)$ word-pairs as useful as the list of top $PPMI(w_i,w_j)$ word-pairs?"
   ]
  },
  {
   "cell_type": "code",
   "execution_count": null,
   "metadata": {
    "scrolled": true
   },
   "outputs": [],
   "source": [
    "ptb_skipgram.counter"
   ]
  },
  {
   "cell_type": "markdown",
   "metadata": {},
   "source": [
    "YOUR ANSWER HERE"
   ]
  },
  {
   "cell_type": "markdown",
   "metadata": {},
   "source": [
    "# 2. Word-embeddings via PMI-SVD (60 points)\n",
    "\n",
    "Inspired by [this blog-post](http://multithreaded.stitchfix.com/blog/2017/10/18/stop-using-word2vec/) we consider a classic method to obtain word embeddings that combines $PMI$ with linear algebra.\n",
    "\n",
    "Go ahead and read the post, it's an easy and quick read."
   ]
  },
  {
   "cell_type": "markdown",
   "metadata": {},
   "source": [
    "## PPMI matrix\n",
    "\n",
    "**(a)** The first step is to make a PPMI matrix $P$. This matrix will have entries\n",
    "    \n",
    "$$(P)_{ij} = PPMI(w_i, w_j)$$\n",
    "\n",
    "Where $w_i$ and $w_j$ are the $i$-th and $j$-th words in our `w2i` dictionary. Finish the function `make_ppmi_matrix`. **(20 points)**\n",
    "\n",
    "**[Note]** If you really want to *scale up* (more about that below), you can consider writing a second version of the function that uses a *sparse* matrix datastructe for the $PMI$ matrix. Most of the entries in it will be zero. [Scipy sparse](https://docs.scipy.org/doc/scipy/reference/sparse.html) has a number of options. (You will not be able to plot this matrix with `imshow` though, like we will do a in a bit)."
   ]
  },
  {
   "cell_type": "code",
   "execution_count": 32,
   "metadata": {},
   "outputs": [],
   "source": [
    "def make_ppmi_matrix(words, unigram, skipgram):\n",
    "    \"\"\"\n",
    "    Constructs a PPMI matrix of with the words\n",
    "    in words.\n",
    "    :param words: the list of words (not indices!) for which the PPMI\n",
    "                  values will be stored in the matrix\n",
    "    :param unigram: an instance of Unigram\n",
    "    :param skipgram: an instance of Skipgram\n",
    "    :returns P: a numpy array such that P[i,j] = PPMI[words[i], words[j]]\n",
    "    \"\"\"\n",
    "    n = len(words)\n",
    "    P = np.zeros((n, n))\n",
    "    \n",
    "    for i in range(n):\n",
    "        for j in range(n):\n",
    "            P[i, j] = PPMI(unigram, skipgram, words[i], words[j])\n",
    "    \n",
    "    return P"
   ]
  },
  {
   "cell_type": "markdown",
   "metadata": {},
   "source": [
    "**(b)** Use the function you wrote above to construct the $PPMI$ matrix for a corpus of your choice. **(10 points)**\n",
    "\n",
    "**[Note]** You are adviced to start with the relatively small *PTB* dataset, and a small list of words, for example only the top 1000 most frequent words. If you get this working, you can scale up to the *TedX* and *Wikipedia* datasets, and to a list of the top 5,000 or 10,000 words, or even more. (The upper limit depends on your patience, the memory availlable on your laptop, and whether you are using a sparse datastructure). But you should **already expect to get good performance in the 5,000-10,000 words range**!"
   ]
  },
  {
   "cell_type": "code",
   "execution_count": 53,
   "metadata": {},
   "outputs": [
    {
     "name": "stdout",
     "output_type": "stream",
     "text": [
      "The list of words is: ['the', '<unk>', 'n', 'of', 'to', 'a', 'in', 'and', \"'s\", 'that', 'for', '$', 'is', 'it', 'said', 'on', 'by', 'at', 'as', 'from', 'million', 'with', 'mr.', 'was', 'be', 'are', 'its', 'he']\n"
     ]
    },
    {
     "data": {
      "text/plain": [
       "array([[ 0.        ,  0.66335556,  0.16114039,  1.09414293,  0.73157575,\n",
       "         0.23622803,  0.80699831,  0.74776935,  0.68600241,  0.8886213 ,\n",
       "         0.72911064,  0.        ,  0.67288469,  0.24701296,  0.43533833,\n",
       "         0.90413775,  0.83197675,  0.59143489,  0.68187571,  0.71069123,\n",
       "         0.        ,  0.6928803 ,  0.00377392,  0.74010287,  0.67309746,\n",
       "         0.47739958,  0.31553962,  0.13652231],\n",
       "       [ 0.66335556,  0.49655501,  0.        ,  0.94086283,  0.6830801 ,\n",
       "         0.90837267,  0.65159565,  1.15463177,  0.73262482,  0.83634391,\n",
       "         0.70953885,  0.        ,  0.59122611,  0.29036513,  0.46880658,\n",
       "         0.68942129,  0.97096729,  0.7083734 ,  0.90317706,  0.62521848,\n",
       "         0.        ,  1.08556077,  0.50960574,  0.54758984,  0.55865231,\n",
       "         0.62804745,  0.75578963,  0.32571397],\n",
       "       [ 0.16114039,  0.        ,  1.57080255,  0.88434903,  1.23114847,\n",
       "         0.92716664,  0.84405326,  0.64521044,  0.17159599,  0.        ,\n",
       "         0.72776629,  2.44142733,  0.        ,  0.        ,  0.        ,\n",
       "         0.71939713,  0.55734138,  1.45087725,  0.56773861,  1.82488949,\n",
       "         2.4104541 ,  0.7602288 ,  0.        ,  0.7846532 ,  0.        ,\n",
       "         0.        ,  0.8619557 ,  0.        ],\n",
       "       [ 1.09414293,  0.94086283,  0.88434903,  0.        ,  0.54839796,\n",
       "         1.05539593,  0.65591047,  0.95953684,  0.79180179,  0.65648373,\n",
       "         0.65924741,  1.06017334,  0.5540009 ,  0.17836301,  0.31640516,\n",
       "         0.80321758,  0.77533548,  0.75180258,  0.86314573,  0.63514044,\n",
       "         1.29104198,  0.85907444,  0.01648195,  0.65456498,  0.46426472,\n",
       "         0.47505414,  1.10942168,  0.        ],\n",
       "       [ 0.73157575,  0.6830801 ,  1.23114847,  0.54839796,  0.        ,\n",
       "         0.82479199,  0.6119499 ,  0.84582709,  0.62668509,  0.7849957 ,\n",
       "         0.69328532,  1.21564277,  0.8593729 ,  0.95298156,  0.33924376,\n",
       "         0.70562426,  0.66745693,  0.49840887,  0.75016299,  1.13360134,\n",
       "         1.00035382,  0.6679657 ,  0.35239607,  0.64380672,  1.57014291,\n",
       "         0.87929252,  1.22953824,  0.46390719],\n",
       "       [ 0.23622803,  0.90837267,  0.92716664,  1.05539593,  0.82479199,\n",
       "         0.        ,  0.88931957,  0.67614474,  0.2418868 ,  0.93324603,\n",
       "         0.99294878,  1.30477522,  0.757876  ,  0.60749856,  0.39835968,\n",
       "         0.89535628,  0.91735223,  1.01035626,  0.96724758,  1.17438665,\n",
       "         1.42187811,  1.21818301,  0.06707296,  0.79533562,  0.72163315,\n",
       "         0.1420084 ,  0.42098428,  0.39371552],\n",
       "       [ 0.80699831,  0.65159565,  0.84405326,  0.65591047,  0.6119499 ,\n",
       "         0.88931957,  0.        ,  0.85287176,  0.47132472,  0.67661293,\n",
       "         0.53024126,  0.87062935,  0.46723267,  0.31758804,  0.27525535,\n",
       "         0.22942536,  0.58786352,  0.29112286,  0.62086619,  0.7021169 ,\n",
       "         0.72475445,  0.85134128,  0.01314811,  0.72131173,  0.60180961,\n",
       "         0.46516277,  0.91339955,  0.24012398],\n",
       "       [ 0.74776935,  1.15463177,  0.64521044,  0.95953684,  0.84582709,\n",
       "         0.67614474,  0.85287176,  0.        ,  0.70013507,  0.75045452,\n",
       "         0.88191353,  0.45158717,  0.57325202,  0.55064681,  0.32960566,\n",
       "         0.79373426,  1.02603976,  0.6268869 ,  0.95066563,  0.78069991,\n",
       "         0.41073745,  1.08806093,  0.44276884,  0.63345546,  0.73089084,\n",
       "         0.97508244,  1.15503806,  0.17778631],\n",
       "       [ 0.68600241,  0.73262482,  0.17159599,  0.79180179,  0.62668509,\n",
       "         0.2418868 ,  0.47132472,  0.70013507,  0.        ,  0.8393715 ,\n",
       "         0.55906892,  0.02503701,  0.52701512,  0.68399666,  0.45409579,\n",
       "         0.68278074,  0.73540288,  0.55347205,  0.55029721,  0.50340837,\n",
       "         0.        ,  0.59701619,  1.05663605,  0.51541956,  0.26769078,\n",
       "         0.17143591,  0.16730063,  0.17976722],\n",
       "       [ 0.8886213 ,  0.83634391,  0.        ,  0.65648373,  0.7849957 ,\n",
       "         0.93324603,  0.67661293,  0.75045452,  0.8393715 ,  0.        ,\n",
       "         0.55561619,  0.        ,  1.37475194,  1.22270854,  0.76284926,\n",
       "         0.78139178,  0.56974518,  0.18824142,  0.56542711,  0.35866416,\n",
       "         0.        ,  0.70404682,  0.90450982,  1.2253044 ,  1.39406275,\n",
       "         1.19453876,  0.71150065,  1.1826873 ],\n",
       "       [ 0.72911064,  0.70953885,  0.72776629,  0.65924741,  0.69328532,\n",
       "         0.99294878,  0.53024126,  0.88191353,  0.55906892,  0.55561619,\n",
       "         0.        ,  1.1480091 ,  0.58473553,  0.57621088,  0.3514829 ,\n",
       "         0.32964422,  0.29222664,  0.34766359,  0.88510551,  0.19279092,\n",
       "         0.99620674,  0.42850877,  0.10038489,  0.62874906,  0.91573308,\n",
       "         0.51441834,  1.09946553,  0.24042499],\n",
       "       [ 0.        ,  0.        ,  2.44142733,  1.06017334,  1.21564277,\n",
       "         1.30477522,  0.87062935,  0.45158717,  0.02503701,  0.        ,\n",
       "         1.1480091 ,  1.64343146,  0.        ,  0.14435933,  0.        ,\n",
       "         0.83351843,  0.2896198 ,  1.31410917,  0.43257116,  2.26148957,\n",
       "         3.35892641,  0.88491643,  0.        ,  0.68946513,  0.        ,\n",
       "         0.        ,  0.89678504,  0.        ],\n",
       "       [ 0.67288469,  0.59122611,  0.        ,  0.5540009 ,  0.8593729 ,\n",
       "         0.757876  ,  0.46723267,  0.57325202,  0.52701512,  1.37475194,\n",
       "         0.58473553,  0.        ,  0.        ,  1.15869239,  0.60337524,\n",
       "         0.56661657,  0.85440037,  0.35991634,  0.57713648,  0.05690363,\n",
       "         0.        ,  0.53553134,  0.43149147,  0.        ,  0.62730284,\n",
       "         0.        ,  0.73914475,  0.63581337],\n",
       "       [ 0.24701296,  0.29036513,  0.        ,  0.17836301,  0.95298156,\n",
       "         0.60749856,  0.31758804,  0.55064681,  0.68399666,  1.22270854,\n",
       "         0.57621088,  0.14435933,  1.15869239,  0.        ,  1.52434837,\n",
       "         0.46899059,  0.2087544 ,  0.04638075,  0.78519455,  0.1420546 ,\n",
       "         0.01594154,  0.59511361,  0.        ,  1.13693143,  1.03070983,\n",
       "         0.        ,  1.11823664,  0.18786253],\n",
       "       [ 0.43533833,  0.46880658,  0.        ,  0.31640516,  0.33924376,\n",
       "         0.39835968,  0.27525535,  0.32960566,  0.45409579,  0.76284926,\n",
       "         0.3514829 ,  0.        ,  0.60337524,  1.52434837,  0.        ,\n",
       "         0.        ,  0.        ,  0.37742506,  0.        ,  0.        ,\n",
       "         0.        ,  0.45762647,  0.88464121,  0.84779343,  0.7259588 ,\n",
       "         0.07100134,  0.99709624,  1.28828423],\n",
       "       [ 0.90413775,  0.68942129,  0.71939713,  0.80321758,  0.70562426,\n",
       "         0.89535628,  0.22942536,  0.79373426,  0.68278074,  0.78139178,\n",
       "         0.32964422,  0.83351843,  0.56661657,  0.46899059,  0.        ,\n",
       "         0.        ,  0.48921906,  0.49350084,  0.73276479,  0.26828116,\n",
       "         0.99603256,  0.50723875,  0.24834589,  0.65172127,  0.7324166 ,\n",
       "         0.65408366,  1.0248438 ,  0.39162418],\n",
       "       [ 0.83197675,  0.97096729,  0.55734138,  0.77533548,  0.66745693,\n",
       "         0.91735223,  0.58786352,  1.02603976,  0.73540288,  0.56974518,\n",
       "         0.29222664,  0.2896198 ,  0.85440037,  0.2087544 ,  0.        ,\n",
       "         0.48921906,  0.05361687,  0.10151928,  0.80109281,  0.46195694,\n",
       "         0.41904628,  0.28180847,  0.33450564,  1.46567883,  1.56316546,\n",
       "         0.83457475,  0.93636131,  0.        ],\n",
       "       [ 0.59143489,  0.7083734 ,  1.45087725,  0.75180258,  0.49840887,\n",
       "         1.01035626,  0.29112286,  0.6268869 ,  0.55347205,  0.18824142,\n",
       "         0.34766359,  1.31410917,  0.35991634,  0.04638075,  0.37742506,\n",
       "         0.49350084,  0.10151928,  0.        ,  0.34635338,  0.48802608,\n",
       "         0.55509734,  0.26411135,  0.0709437 ,  1.17097899,  0.72425617,\n",
       "         0.63206212,  0.68499027,  0.1716956 ],\n",
       "       [ 0.68187571,  0.90317706,  0.56773861,  0.86314573,  0.75016299,\n",
       "         0.96724758,  0.62086619,  0.95066563,  0.55029721,  0.56542711,\n",
       "         0.88510551,  0.43257116,  0.57713648,  0.78519455,  0.        ,\n",
       "         0.73276479,  0.80109281,  0.34635338,  1.9866124 ,  0.51766309,\n",
       "         0.55521739,  0.39690305,  0.46972002,  0.68274627,  0.85640161,\n",
       "         0.61720572,  0.82013516,  0.61502109],\n",
       "       [ 0.71069123,  0.62521848,  1.82488949,  0.63514044,  1.13360134,\n",
       "         1.17438665,  0.7021169 ,  0.78069991,  0.50340837,  0.35866416,\n",
       "         0.19279092,  2.26148957,  0.05690363,  0.1420546 ,  0.        ,\n",
       "         0.26828116,  0.46195694,  0.48802608,  0.51766309,  0.        ,\n",
       "         2.20317609,  0.11714386,  0.        ,  0.6759573 ,  0.4157336 ,\n",
       "         0.18471973,  0.93825684,  0.        ],\n",
       "       [ 0.        ,  0.        ,  2.4104541 ,  1.29104198,  1.00035382,\n",
       "         1.42187811,  0.72475445,  0.41073745,  0.        ,  0.        ,\n",
       "         0.99620674,  3.35892641,  0.        ,  0.01594154,  0.        ,\n",
       "         0.99603256,  0.41904628,  0.55509734,  0.55521739,  2.20317609,\n",
       "         1.30845256,  0.74038386,  0.        ,  0.66620103,  0.        ,\n",
       "         0.        ,  0.92341308,  0.        ],\n",
       "       [ 0.6928803 ,  1.08556077,  0.7602288 ,  0.85907444,  0.6679657 ,\n",
       "         1.21818301,  0.85134128,  1.08806093,  0.59701619,  0.70404682,\n",
       "         0.42850877,  0.88491643,  0.53553134,  0.59511361,  0.45762647,\n",
       "         0.50723875,  0.28180847,  0.26411135,  0.39690305,  0.11714386,\n",
       "         0.74038386,  0.        ,  0.66679181,  0.67531964,  0.63464205,\n",
       "         0.64171213,  1.04870312,  0.64749567],\n",
       "       [ 0.00377392,  0.50960574,  0.        ,  0.01648195,  0.35239607,\n",
       "         0.06707296,  0.01314811,  0.44276884,  1.05663605,  0.90450982,\n",
       "         0.10038489,  0.        ,  0.43149147,  0.        ,  0.88464121,\n",
       "         0.24834589,  0.33450564,  0.0709437 ,  0.46972002,  0.        ,\n",
       "         0.        ,  0.66679181,  0.11248032,  0.83838436,  0.24080371,\n",
       "         0.        ,  0.        ,  0.93285932],\n",
       "       [ 0.74010287,  0.54758984,  0.7846532 ,  0.65456498,  0.64380672,\n",
       "         0.79533562,  0.72131173,  0.63345546,  0.51541956,  1.2253044 ,\n",
       "         0.62874906,  0.68946513,  0.        ,  1.13693143,  0.84779343,\n",
       "         0.65172127,  1.46567883,  1.17097899,  0.68274627,  0.6759573 ,\n",
       "         0.66620103,  0.67531964,  0.83838436,  0.        ,  0.        ,\n",
       "         0.        ,  0.266823  ,  1.10091939],\n",
       "       [ 0.67309746,  0.55865231,  0.        ,  0.46426472,  1.57014291,\n",
       "         0.72163315,  0.60180961,  0.73089084,  0.26769078,  1.39406275,\n",
       "         0.91573308,  0.        ,  0.62730284,  1.03070983,  0.7259588 ,\n",
       "         0.7324166 ,  1.56316546,  0.72425617,  0.85640161,  0.4157336 ,\n",
       "         0.        ,  0.63464205,  0.24080371,  0.        ,  0.        ,\n",
       "         0.51313307,  0.19545208,  0.50892107],\n",
       "       [ 0.47739958,  0.62804745,  0.        ,  0.47505414,  0.87929252,\n",
       "         0.1420084 ,  0.46516277,  0.97508244,  0.17143591,  1.19453876,\n",
       "         0.51441834,  0.        ,  0.        ,  0.        ,  0.07100134,\n",
       "         0.65408366,  0.83457475,  0.63206212,  0.61720572,  0.18471973,\n",
       "         0.        ,  0.64171213,  0.        ,  0.        ,  0.51313307,\n",
       "         0.        ,  0.        ,  0.        ],\n",
       "       [ 0.31553962,  0.75578963,  0.8619557 ,  1.10942168,  1.22953824,\n",
       "         0.42098428,  0.91339955,  1.15503806,  0.16730063,  0.71150065,\n",
       "         1.09946553,  0.89678504,  0.73914475,  1.11823664,  0.99709624,\n",
       "         1.0248438 ,  0.93636131,  0.68499027,  0.82013516,  0.93825684,\n",
       "         0.92341308,  1.04870312,  0.        ,  0.266823  ,  0.19545208,\n",
       "         0.        ,  0.31620102,  0.        ],\n",
       "       [ 0.13652231,  0.32571397,  0.        ,  0.        ,  0.46390719,\n",
       "         0.39371552,  0.24012398,  0.17778631,  0.17976722,  1.1826873 ,\n",
       "         0.24042499,  0.        ,  0.63581337,  0.18786253,  1.28828423,\n",
       "         0.39162418,  0.        ,  0.1716956 ,  0.61502109,  0.        ,\n",
       "         0.        ,  0.64749567,  0.93285932,  1.10091939,  0.50892107,\n",
       "         0.        ,  0.        ,  0.55114754]])"
      ]
     },
     "execution_count": 53,
     "metadata": {},
     "output_type": "execute_result"
    }
   ],
   "source": [
    "# Because of memory issues we've only computed the matrix for a few words\n",
    "# By changing the value of len_vocab we can compute the matrix for larger lists of words\n",
    "len_vocab = 28\n",
    "words_vocab = [ptb.i2w[i] for i in range(0,len_vocab)]\n",
    "print(\"The list of words is:\", words_vocab)\n",
    "\n",
    "make_ppmi_matrix(words_vocab, ptb_unigram, ptb_skipgram)"
   ]
  },
  {
   "cell_type": "markdown",
   "metadata": {},
   "source": [
    "**(c)** Plot the $PPMI$ matrix with `plt.imshow`. You can use the following template code. What do you notice about the matrix? **(10 points)**"
   ]
  },
  {
   "cell_type": "code",
   "execution_count": 54,
   "metadata": {},
   "outputs": [
    {
     "ename": "NameError",
     "evalue": "name 'ppmi_matrix' is not defined",
     "output_type": "error",
     "traceback": [
      "\u001b[0;31m---------------------------------------------------------------------------\u001b[0m",
      "\u001b[0;31mNameError\u001b[0m                                 Traceback (most recent call last)",
      "\u001b[0;32m<ipython-input-54-cd42accc5b1f>\u001b[0m in \u001b[0;36m<module>\u001b[0;34m()\u001b[0m\n\u001b[1;32m      3\u001b[0m \u001b[0;31m# The whole PPMI matrix\u001b[0m\u001b[0;34m\u001b[0m\u001b[0;34m\u001b[0m\u001b[0m\n\u001b[1;32m      4\u001b[0m \u001b[0max\u001b[0m\u001b[0;34m,\u001b[0m \u001b[0mfig\u001b[0m \u001b[0;34m=\u001b[0m \u001b[0mplt\u001b[0m\u001b[0;34m.\u001b[0m\u001b[0msubplots\u001b[0m\u001b[0;34m(\u001b[0m\u001b[0mfigsize\u001b[0m\u001b[0;34m=\u001b[0m\u001b[0;34m(\u001b[0m\u001b[0;36m10\u001b[0m\u001b[0;34m,\u001b[0m\u001b[0;36m10\u001b[0m\u001b[0;34m)\u001b[0m\u001b[0;34m)\u001b[0m\u001b[0;34m\u001b[0m\u001b[0m\n\u001b[0;32m----> 5\u001b[0;31m \u001b[0mplt\u001b[0m\u001b[0;34m.\u001b[0m\u001b[0mimshow\u001b[0m\u001b[0;34m(\u001b[0m\u001b[0mppmi_matrix\u001b[0m\u001b[0;34m)\u001b[0m\u001b[0;34m\u001b[0m\u001b[0m\n\u001b[0m\u001b[1;32m      6\u001b[0m \u001b[0mplt\u001b[0m\u001b[0;34m.\u001b[0m\u001b[0mcolorbar\u001b[0m\u001b[0;34m(\u001b[0m\u001b[0;34m)\u001b[0m\u001b[0;34m\u001b[0m\u001b[0m\n\u001b[1;32m      7\u001b[0m \u001b[0mplt\u001b[0m\u001b[0;34m.\u001b[0m\u001b[0mshow\u001b[0m\u001b[0;34m(\u001b[0m\u001b[0;34m)\u001b[0m\u001b[0;34m\u001b[0m\u001b[0m\n",
      "\u001b[0;31mNameError\u001b[0m: name 'ppmi_matrix' is not defined"
     ]
    },
    {
     "data": {
      "image/png": "[encoded data removed]",
      "text/plain": [
       "<matplotlib.figure.Figure at 0x318d85ec>"
      ]
     },
     "metadata": {},
     "output_type": "display_data"
    }
   ],
   "source": [
    "# ppmi_matrix = ...\n",
    "\n",
    "# The whole PPMI matrix\n",
    "ax, fig = plt.subplots(figsize=(10,10))\n",
    "plt.imshow(ppmi_matrix)\n",
    "plt.colorbar()\n",
    "plt.show()\n",
    "\n",
    "# Only the top-left corner (which hold the most frequent words)\n",
    "ax, fig = plt.subplots(figsize=(10,10))\n",
    "plt.imshow(ppmi_matrix[0:300, 0:300])\n",
    "plt.colorbar()\n",
    "plt.show()"
   ]
  },
  {
   "cell_type": "markdown",
   "metadata": {},
   "source": [
    "YOUR ANSWER HERE"
   ]
  },
  {
   "cell_type": "markdown",
   "metadata": {},
   "source": [
    "## Singular Value Decomposition\n",
    "\n",
    "Now that we have the $PPMI$ co-occurence matrix, we are ready to compute its **singular value decomposition (SVD)**. \n",
    "\n",
    "### Definition\n",
    "\n",
    "SVD is a very elegant linear algebra technique. It is defined as follows. Let $A \\in \\mathbb{R}^{m\\times n}$, then the singular value decomposition of A is given by\n",
    "\n",
    "$$A = U\\Sigma V^{\\top},$$\n",
    "\n",
    "where:\n",
    "\n",
    "* $U$ is an $m \\times m$ **unitary** matrix.\n",
    "    * A real-valued matrix $U$ is called unitary when $U^{\\top}U = UU^{\\top} = I$. In other words: $U$ forms an *orthonormal* basis for $\\mathbb{R}^{m}$.\n",
    "    \n",
    "    \n",
    "* $\\Sigma$ is a **diagonal** $m \\times n$ matrix with **non-negative real numbers**.\n",
    "\n",
    "    * The diagonal values are the so called **singular values** $\\sigma_1, \\sigma_2,\\dots,\\sigma_n$ (supposing $n \\leq m$). The convention is that in the matrix $\\Sigma$ these are ordered from large to small: $\\sigma_1 \\geq \\sigma_2 \\geq \\dots \\geq \\sigma_n \\geq 0$. \n",
    "    \n",
    "    \n",
    "* $V$ is an $n \\times n$ **unitary** matrix (and $V^{\\top}$ its transpose)\n",
    "\n",
    "\n",
    "### Low-rank approximation\n",
    "\n",
    "When we select only the first $k$ collums of $U$ and $V$ and the first $k$ singular values in $\\Sigma$ we get \n",
    "* $\\tilde{U} \\in \\mathbb{R}^{m \\times k}$\n",
    "* $\\tilde{\\Sigma} \\in \\mathbb{R}^{k \\times k}$\n",
    "* $\\tilde{V} \\in \\mathbb{R}^{n \\times k}.$\n",
    "\n",
    "\n",
    "The reduced matrices can be used to make a rank $k$ matrix $\\tilde{A} \\in \\mathbb{R}^{m\\times n}$. The matrix $\\tilde{A}$ is an approximation of the matrix $A$:\n",
    "\n",
    "$$A \\approx \\tilde{U}\\tilde{\\Sigma} \\tilde{V}^{\\top} = \\tilde{A}.$$\n",
    "\n",
    "Moreover, this approximation is the 'best' approximation of $A$ in the sense that in minimizes the distance to $A$ in a type of matrix norm called the [Frobenius norm](https://en.wikipedia.org/wiki/Matrix_norm#Frobenius_norm):\n",
    "    \n",
    "$$\\tilde{A} = \\arg \\min_{A'} || A - A'||_{F}$$\n",
    "\n",
    "----- \n",
    "\n",
    "You can learn more about SVD from these sources:\n",
    "\n",
    "* [Jurafksy and Martin 16.1](https://web.stanford.edu/~jurafsky/slp3/16.pdf) (3rd edition)\n",
    "* The [Wikipedia page](https://en.wikipedia.org/wiki/Singular-value_decomposition) (with a very good visual illustration)\n",
    "* Or this long but good [blog-post series](https://jeremykun.com/2016/04/18/singular-value-decomposition-part-1-perspectives-on-linear-algebra/) (if you have some time!)\n",
    "\n",
    "----------\n",
    "\n",
    "For the purposes of this tutorial, however, all we need to know to get our embeddings is how to use SVD in python. And that is straightforward:"
   ]
  },
  {
   "cell_type": "code",
   "execution_count": null,
   "metadata": {},
   "outputs": [],
   "source": [
    "from scipy.linalg import svd\n",
    "\n",
    "%time U, s, Vt = svd(wiki_ppmi_matrix)"
   ]
  },
  {
   "cell_type": "markdown",
   "metadata": {},
   "source": [
    "## Reducing the dimension\n",
    "\n",
    "Now we can create the rank $k$ matrix $\\tilde{U}$ by selection only the first $k$ columns of $U$. The value $k$ will be the **embedding dimension** of our word vectors. Now we have our word embeddings! They are the rows of $\\tilde{U}$."
   ]
  },
  {
   "cell_type": "code",
   "execution_count": null,
   "metadata": {},
   "outputs": [],
   "source": [
    "k = 300\n",
    "U_tilde = U[:,:k]"
   ]
  },
  {
   "cell_type": "markdown",
   "metadata": {},
   "source": [
    "When we look at the word embeddings we can see that, unlike the full $PMI$ matrix, the vectors in $\\tilde{U}$ are **dense**: almost all values non-zero."
   ]
  },
  {
   "cell_type": "code",
   "execution_count": null,
   "metadata": {},
   "outputs": [],
   "source": [
    "ax, fig = plt.subplots(figsize=(15,15))\n",
    "plt.imshow(U_tilde[:800])\n",
    "plt.colorbar()\n",
    "plt.show()"
   ]
  },
  {
   "cell_type": "markdown",
   "metadata": {},
   "source": [
    "## Visualization with t-SNE\n",
    "\n",
    "A simple and rewarding way to evaluate to the word embeddings is by visualizing them.\n",
    "\n",
    "When visualizing the vectors, we ideally show them in their $k$-dimensional vector space, but that is impossible to do. To plot them we need to reduce their dimension much beyond $k$.\n",
    "\n",
    "A very popular method for this is [**t-SNE**](https://lvdmaaten.github.io/tsne/). t-SNE is a very effective technique for dimensionality reduction that is particularly well suited for the visualization of high-dimensional datasets. What it does is find a lower dimensional surface on which to project the high-dimensional data in such a way that the local structure of the original data is preserved as much as possible in the projected data. In simple words: data-points that are close to each other in the original space end up close to each other in the projected space. (Note: this does not hold large distances! Points that are far apart in the original space do not necessarily end up far apart in the projected space.) \n",
    "\n",
    "So, t-SNE is like Principal Component Analysis (PCA), another popular dimensionality reduction technique. But, due to the non-linear nature of the surface it finds (the 'manifold') t-SNE has more flexibility.\n",
    "\n",
    "--------\n",
    "If you want to know more about t-SNE you can read the following sources:\n",
    "* [How to Use t-SNE Effectively](https://distill.pub/2016/misread-tsne/) on Distill discusses, among others, the effects of the *perplexity* parameter in t-SNE\n",
    "* This [Scikit-learn example](http://scikit-learn.org/stable/auto_examples/manifold/plot_t_sne_perplexity.html#sphx-glr-auto-examples-manifold-plot-t-sne-perplexity-py)\n",
    "--------\n",
    "\n",
    "The code plots below uses **t-SNE** to make a two-dimensional plot with our word-embeddings. We also throw in some **K-means** clustering *in the original high-dimensional space* so that we can color our dimension-reduced word-embeddings. This gives us some for additional interpretative abilities."
   ]
  },
  {
   "cell_type": "code",
   "execution_count": null,
   "metadata": {},
   "outputs": [],
   "source": [
    "from sklearn.cluster import KMeans\n",
    "from sklearn.manifold import TSNE\n",
    "\n",
    "from bokeh.models import ColumnDataSource, LabelSet\n",
    "from bokeh.plotting import figure, show, output_file\n",
    "from bokeh.palettes import d3\n",
    "from bokeh.io import output_notebook\n",
    "output_notebook()\n",
    "\n",
    "def emb_scatter(data, names, perplexity=30.0, N=20):\n",
    "    \"\"\"\n",
    "    Uses t-SNE with given perplexity to reduce the dimension of the \n",
    "    vectors in data to 2, plots these in a bokeh 2d scatter plot, \n",
    "    and colors them with N colors using K-means clustering of the \n",
    "    originial vectors. The colored dots are tagged with labels from\n",
    "    the list names.\n",
    "    \n",
    "    :param data: numpy array of shape [num_vectors, embedding_dim]\n",
    "    :param names: a list of words of length num_vectors in the same order as data\n",
    "    :param perplexity: the perplexity for t-SNE\n",
    "    :param N: the number of clusters to find by K-means\n",
    "    \"\"\"\n",
    "    ## Try to find some clusters ##\n",
    "    print(\"Finding clusters\")\n",
    "    kmeans = KMeans(n_clusters=N)\n",
    "    kmeans.fit(data)\n",
    "    klabels = kmeans.labels_\n",
    "\n",
    "    ## Get a tsne fit ##\n",
    "    print(\"Fitting tsne\")\n",
    "    tsne = TSNE(n_components=2, perplexity=perplexity)\n",
    "    emb_tsne = tsne.fit_transform(data)\n",
    "    \n",
    "    ## Plot the tsne of the embeddings with bokeh ##\n",
    "    # source: https://github.com/oxford-cs-deepnlp-2017/practical-1\n",
    "    p = figure(tools=\"pan,wheel_zoom,reset,save\",\n",
    "               toolbar_location=\"above\",\n",
    "               title=\"T-SNE for most common words\")\n",
    "\n",
    "    # Set colormap as a list\n",
    "    colormap = d3['Category20'][N]\n",
    "    colors = [colormap[i] for i in klabels]\n",
    "\n",
    "    source = ColumnDataSource(data=dict(x1=emb_tsne[:,0],\n",
    "                                        x2=emb_tsne[:,1],\n",
    "                                        names=names,\n",
    "                                        colors=colors))\n",
    "\n",
    "    p.scatter(x=\"x1\", y=\"x2\", size=8, source=source, color='colors')\n",
    "\n",
    "    labels = LabelSet(x=\"x1\", y=\"x2\", text=\"names\", y_offset=6,\n",
    "                      text_font_size=\"8pt\", text_color=\"#555555\",\n",
    "                      source=source, text_align='center')\n",
    "    p.add_layout(labels)\n",
    "\n",
    "    show(p)"
   ]
  },
  {
   "cell_type": "markdown",
   "metadata": {},
   "source": [
    "**(d)** Use the function `emb_scatter` to plot the word-vector in $\\tilde{U}$. You are adviced to plot only the first 500-1000 word-vectors to make the resulting plot not too cluttered. **(10 points)**\n",
    "\n",
    "Now go find some interesting clusters!"
   ]
  },
  {
   "cell_type": "code",
   "execution_count": null,
   "metadata": {
    "scrolled": false
   },
   "outputs": [],
   "source": [
    "### YOUR CODE HERE"
   ]
  },
  {
   "cell_type": "markdown",
   "metadata": {},
   "source": [
    "**(e)** Give a word cluster that you have found in the scatter plot that you think is particularly nice. **(10 points)**"
   ]
  },
  {
   "cell_type": "markdown",
   "metadata": {},
   "source": [
    "YOUR ANSWER HERE"
   ]
  },
  {
   "cell_type": "markdown",
   "metadata": {},
   "source": [
    "------\n",
    "\n",
    "**You have reached the end of this notebook!** You can read on if you are interested.\n",
    "\n",
    "Now, you can note that there are a number of hyperparameters in the model and its visualization that you can experiment with. **If you are motivated, you can experiment with these! But note that you are not required to do this.**\n",
    "\n",
    "The options are:\n",
    "* The pereplixity used in t-SNE has significant effects on the resulting visualization. Generally, values in the range 5-30 work well. If you have less data, or it is very high dimensional, you should go lower. If the data is packed closely together (lower dimension, more data), then higher perplexity generally works better.\n",
    "* The embedding dimension $k$ of the vectors. We chose $k=300$, which is relatively standard in the literature. But you also see dimension 50,100, 150, 500, even 600. Do you notice differences? And why not just even use the original dimensions of $U$? \n",
    "* The number of words you use in the $PPMI$ matrix $P$. How few can you get away with? Is more always better?\n",
    "* Use the matrix product $U\\Sigma$ for the embeddings. The paper by Levy et al. (2015) below argues for this: select the first $k$ columns of $U\\Sigma$ to give $\\tilde{U\\Sigma}$ as embeddings matrix. What this means is that each orthogonal vector $u_i$ is scaled by its singular value $\\sigma_i$ to give $\\sigma_i u_i$ before to reducing it to $\\tilde{\\sigma_i u_i}$.\n",
    "\n",
    "How to evaluate the quality of word-embeddings quantitatively? Read the following for more information on the various evaluation methods developped for this:\n",
    "* [Lecture notes](http://cs224d.stanford.edu/lecture_notes/notes2.pdf) from the Stanford course [Deep Learning for NLP](http://web.stanford.edu/class/cs224n/) \n",
    "\n",
    "The following paper compares a number the most popular word-embedding techniques with each. PPMI-SVD is one of them! Read the paper to get inspiration for your experiments to improve the above 'vanilla' implementation: \n",
    "\n",
    "* [Improving Distributional Similarity with Lessons Learned from Word Embeddings](http://www.aclweb.org/anthology/Q15-1016) (Levy et al. 2015)\n",
    "\n",
    "The following blog-post contains an interesting discussion on why low dimensional embeddings often work better than very high-dimensional ones.\n",
    "* [Word Embeddings: Explaining their properties](http://www.offconvex.org/2016/02/14/word-embeddings-2/) \n",
    "\n",
    "---"
   ]
  }
 ],
 "metadata": {
  "kernelspec": {
   "display_name": "Python 3",
   "language": "python",
   "name": "python3"
  },
  "language_info": {
   "codemirror_mode": {
    "name": "ipython",
    "version": 3
   },
   "file_extension": ".py",
   "mimetype": "text/x-python",
   "name": "python",
   "nbconvert_exporter": "python",
   "pygments_lexer": "ipython3",
   "version": "3.5.2"
  }
 },
 "nbformat": 4,
 "nbformat_minor": 2
}

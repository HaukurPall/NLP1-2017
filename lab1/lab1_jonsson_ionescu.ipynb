{
 "cells": [
  {
   "cell_type": "code",
   "execution_count": 16,
   "metadata": {},
   "outputs": [],
   "source": [
    "%matplotlib inline\n",
    "import matplotlib\n",
    "import numpy as np\n",
    "import matplotlib.pyplot as plt"
   ]
  },
  {
   "cell_type": "markdown",
   "metadata": {},
   "source": [
    "# Lab 1: Text Corpora and Language Modelling\n",
    "\n",
    "This lab is meant to help you get familiar with some language data, and use this data to estimate N-gram language models\n",
    "\n",
    "First you will use the **Penn Treebank**, which is a collection of newspaper articles from the newspaper \n",
    "The Wall Street Journal. The idea is to examine the data and notice interesting properties. This will not take more than a few lines of code.\n",
    "\n",
    "Then you will use a corpus consisting of **TedX** talks. This you will use to estimate an **N-gram language model** for different orders of N, and use this this for some tasks.\n",
    "\n",
    "The datasets are on blackboard under course materials. Download the zip and make sure to put the files in the same directory as the notebook.\n",
    "\n",
    "### Rules\n",
    "* The lab exercises should be made in **groups of two people**.\n",
    "\n",
    "* The deadline is **Tuesday 7 nov 16:59**.\n",
    "\n",
    "* The assignment should submitted to **Blackboard** as `.ipynb`. Only **one submission per group**.\n",
    "\n",
    "* The **filename** should be `lab1_lastname1_lastname2.ipynb`, so for example `lab1_Jurafsky_Martin.ipynb`.\n",
    "\n",
    "* The notebook is graded on a scale of **0-10**. The number of points for each question is indicated in parantheses. \n",
    "\n",
    "* The questions marked **optional** are not graded; they are an additional challenge for those interested in going the extra mile. \n",
    "\n",
    "Notes on implementation:\n",
    "\n",
    "* You should **write your code and answers in this iPython Notebook** (see http://ipython.org/notebook.html for reference material). If you have problems, please contact your teaching assistant.\n",
    "\n",
    "* Use only **one cell for code** and **one cell for markdown** answers!    \n",
    "\n",
    "    * Put all code in the cell with the `# YOUR CODE HERE` comment.\n",
    "    \n",
    "    * For theoretical question, put your solution in the YOUR ANSWER HERE cell.\n",
    "    \n",
    "* Test your code and **make sure we can run your notebook**"
   ]
  },
  {
   "cell_type": "markdown",
   "metadata": {},
   "source": [
    "# 1. Penn treebank\n",
    "\n",
    "## Exercise 1.1 (40 points, 5 points per subquestion )\n",
    "\n",
    "You are provided with a corpus containing words with their Part-of-Speech tags (POS-tags for short). The format is\n",
    "**word|POS** (one sentence per line) and the file name is **sec02-22.gold.tagged**. This data is extracted from Sections 02-22 from the Penn Treebank: these sections are most commonly used for training statistical models like POS-taggers and parsers.\n",
    "\n",
    "**[Hint]** **Figure 10.1** in chapter 10 of Jurafsky and Martin (see [here](https://web.stanford.edu/~jurafsky/slp3/10.pdf)) holds a summary of the 45 POS-tags used in the Penn Treebank tagset together with their meaning and some examples. (If you are keen on learning more about the word-classes represented POS-tags and their definitions you can do a litle reading ahead for next week and already have a look at section 10.1 of the same chapter).\n",
    "\n",
    "**[Hint]** the Python library [collections](https://docs.python.org/2/library/collections.html) has an object called `Counter` which will come in handy for this exercise."
   ]
  },
  {
   "cell_type": "markdown",
   "metadata": {},
   "source": [
    " "
   ]
  },
  {
   "cell_type": "markdown",
   "metadata": {},
   "source": [
    "**(a)** How large is the corpus? (i.e. how **many tokens**). And what is the size of the **vocabulary** used in this corpus? \n",
    "\n",
    "Estimate the vocabulary size both by **lowercasing** all the words as well as by leaving the words in their **original orthography**. What is an advantage of lowercasing all the words in your corpus? What is a notable downside? **Give examples.**"
   ]
  },
  {
   "cell_type": "code",
   "execution_count": 17,
   "metadata": {},
   "outputs": [
    {
     "name": "stdout",
     "output_type": "stream",
     "text": [
      "The corpus is 929552 tokens long.\n",
      "The size of the vocabulary (with the original ortography) is 44210 words.\n",
      "The size of the lowercased vocabulary is 39384 words.\n",
      "\n",
      "The word 'then' appears 409 times, out of which 333 times starting with a lowercase letter, and 76 times starting with an uppercase letter.\n"
     ]
    }
   ],
   "source": [
    "from collections import Counter\n",
    "\n",
    "word_counter = Counter() # this is for the original ortography - dictionary where each word has its number of occurences\n",
    "word_lower_counter = Counter() # this is for the lowercased words\n",
    "pos_counter = Counter()\n",
    "word_poses_tuples = []  # list of (word, POS) - with the original ortography\n",
    "\n",
    "with open(\"sec02-21.gold.tagged\") as file:\n",
    "    # word_poses is a list of strings with elements of the form \"word|POS\"\n",
    "    word_poses = []\n",
    "    for line in file:\n",
    "        word_poses += line.strip().split()\n",
    "    \n",
    "    # So the size of the corpus is the length of the word_poses\n",
    "    corpus_size = len(word_poses)\n",
    "    print(\"The corpus is \" + str(corpus_size) + \" tokens long.\")\n",
    "    \n",
    "    for word_pos in word_poses:\n",
    "        word, pos = word_pos.split(\"|\")\n",
    "        word_poses_tuples.append((word, pos))\n",
    "        word_counter.update([word])\n",
    "        \n",
    "        word = word.lower()\n",
    "        word_lower_counter.update([word])\n",
    "        pos_counter.update([pos])\n",
    "    \n",
    "    # Then the size of the vocabulary is just the number of distinct words, i.e. the length of word_counter\n",
    "    print(\"The size of the vocabulary (with the original ortography) is \" + str(len(word_counter)) + \" words.\")\n",
    "    \n",
    "    print(\"The size of the lowercased vocabulary is \" + str(len(word_lower_counter)) + \" words.\\n\")\n",
    "    \n",
    "    print(\"The word 'then' appears \" + str(word_lower_counter['then']) + \" times, out of which \" + str(word_counter['then']) + \" times starting with a lowercase letter, and \" + str(word_counter['Then']) + \" times starting with an uppercase letter.\")\n"
   ]
  },
  {
   "cell_type": "markdown",
   "metadata": {},
   "source": [
    "By lowercasing all the words in the corpus we regard a word as being the same for whatever position it \n",
    "  has in the sentence. For instance, the word \"then\" appears 409 times, out of which 76 times it appears\n",
    "  with an uppercase (i.e. \"Then\") and 333 times with a lowercase (i.e. \"then\"). When the lowercased we \n",
    "  consider both \"Then\" and \"then\" as being the same word.\n",
    "\n",
    "The advantage of lowercasing is hence that it enables us to analyse words disregarding their position in\n",
    "  the sentence.\n",
    "\n",
    "A downside of lowercasing is that if a proper name (i.e. abbreviation of concepts, names of pople etc.) \n",
    "  coincide with a word in the text, they will be regarded as the same word. For instance, \"Motors\" appear\n",
    "  both within the context of the name of a company s name (\"General|NNP Motors|NNP Corp.|NNP\") and as the\n",
    "  noun (\"(...) for|IN Minuteman|NNP missile|NN rocket|NN motors|NNS .|.\")\n",
    "  Yet another example is with \"NO\" and \"no\". The first appears appears once only when referring to an organisation\n",
    "  (\"A|DT crusade|NN of|IN NO|UH to|TO the|DT consumption|NN of|IN drugs|NNS is|VBZ imperative|JJ .|. \")\n",
    "  while \"no\" appears 691 times as a negation (e.g. \"Mr.|NNP Dinkins|NNP will|MD probably|RB have|VB no|DT choice|NN\").\n",
    "  The two obviously have different meanings, and their meaning become ambiguous when lowercasing."
   ]
  },
  {
   "cell_type": "markdown",
   "metadata": {},
   "source": [
    "------\n",
    "For the rest of this exercise you should use the **original orthography** of the data when answering the questions.\n",
    "\n",
    "------\n"
   ]
  },
  {
   "cell_type": "markdown",
   "metadata": {},
   "source": [
    "**(b)** Plot a graph of word frequency versus rank of a word, in this corpus. Does this corpus obey **Zipf’s law**?"
   ]
  },
  {
   "cell_type": "code",
   "execution_count": 18,
   "metadata": {
    "scrolled": true
   },
   "outputs": [
    {
     "data": {
      "image/png": "[encoded data removed]",
      "text/plain": [
       "<matplotlib.figure.Figure at 0xb44d7c4c>"
      ]
     },
     "metadata": {},
     "output_type": "display_data"
    }
   ],
   "source": [
    "import matplotlib.pyplot as plt\n",
    "from math import log\n",
    "\n",
    "most_common = word_lower_counter.most_common() # list of most common words; each element has theform (word, no_occurences)\n",
    "words = [word[0] for word in most_common] # this is the list of words orderedby their number of occurences\n",
    "frequencies = [word[1] for word in most_common] # this is the number of occurences of each of the word\n",
    "log_frequencies = [log(frequency) for frequency in frequencies]\n",
    "\n",
    "# Now we make the plot of the rank versus frequency (log axes)\n",
    "x_axis = range(1, len(words)+1)\n",
    "log_x_axis = [log(x) for x in x_axis]\n",
    "# We could also have used plt.loglog\n",
    "plt.plot(log_x_axis, log_frequencies)\n",
    "plt.xlabel(\"Rank\")\n",
    "plt.ylabel(\"Frequency\")\n",
    "plt.title(\"Rank vs. Frequency, log axes\")\n",
    "plt.show()"
   ]
  },
  {
   "cell_type": "markdown",
   "metadata": {},
   "source": [
    "**(c)** What are the **20 most common words** in the corpus and how often do they occur? What is the 50th most common word, the 100th and the 1000th and how often do they occur?"
   ]
  },
  {
   "cell_type": "code",
   "execution_count": 19,
   "metadata": {},
   "outputs": [
    {
     "name": "stdout",
     "output_type": "stream",
     "text": [
      "The 1st most common word is ',' and appears 48310 many times.\n",
      "The 2nd most common word is 'the' and appears 47666 many times.\n",
      "The 3rd most common word is '.' and appears 38798 many times.\n",
      "The 4th most common word is 'of' and appears 22858 many times.\n",
      "The 5th most common word is 'to' and appears 22210 many times.\n",
      "The 6th most common word is 'a' and appears 20031 many times.\n",
      "The 7th most common word is 'in' and appears 16824 many times.\n",
      "The 8th most common word is 'and' and appears 16458 many times.\n",
      "The 9th most common word is ''s' and appears 9264 many times.\n",
      "The 10th most common word is 'that' and appears 8396 many times.\n",
      "The 11st most common word is 'for' and appears 8377 many times.\n",
      "The 12nd most common word is '$' and appears 7125 many times.\n",
      "The 13rd most common word is 'is' and appears 6925 many times.\n",
      "The 14th most common word is 'it' and appears 5792 many times.\n",
      "The 15th most common word is 'said' and appears 5606 many times.\n",
      "The 16th most common word is 'on' and appears 5335 many times.\n",
      "The 17th most common word is '%' and appears 4871 many times.\n",
      "The 18th most common word is 'at' and appears 4651 many times.\n",
      "The 19th most common word is 'by' and appears 4593 many times.\n",
      "The 20th most common word is 'as' and appears 4582 many times.\n",
      "The 50th most common word is 'his' and appears 1806 many times.\n",
      "The 100th most common word is 'group' and appears 897 many times.\n",
      "The 1000th most common word is 'let' and appears 108 many times.\n"
     ]
    }
   ],
   "source": [
    "# The following function is for printing purposes only\n",
    "def count_end(no):\n",
    "    if no % 10 == 1:\n",
    "        ending = 'st'\n",
    "    elif no%10 == 2:\n",
    "        ending = 'nd'\n",
    "    elif no%10 == 3:\n",
    "        ending = 'rd'\n",
    "    else:\n",
    "        ending = 'th'\n",
    "    return ending\n",
    "\n",
    "for rank, word_count in enumerate(most_common[:20]):\n",
    "    print(\"The \" + str(rank + 1) + count_end(rank+1)+ \" most common word is '\" + word_count[0] + \"' and appears\", word_count[1], \"many times.\")\n",
    "\n",
    "for rank in [49, 99, 999]:\n",
    "    print(\"The \" + str(rank + 1) + count_end(rank+1)+ \" most common word is '\" + most_common[rank][0] + \"' and appears\", most_common[rank][1], \"many times.\")\n"
   ]
  },
  {
   "cell_type": "markdown",
   "metadata": {},
   "source": [
    "**(d)** How many different Part-of-speech tags are present in the corpus?"
   ]
  },
  {
   "cell_type": "code",
   "execution_count": 20,
   "metadata": {
    "scrolled": true
   },
   "outputs": [
    {
     "name": "stdout",
     "output_type": "stream",
     "text": [
      "There are 48 distinct POS tags in the corpus.\n"
     ]
    }
   ],
   "source": [
    "print(\"There are\", len(pos_counter.most_common()), \"distinct POS tags in the corpus.\")"
   ]
  },
  {
   "cell_type": "markdown",
   "metadata": {},
   "source": [
    "**(e)** Print a list of the **10 most commonly occurring POS tags** in the data. For each of these POS tags, what are the **3 most common words** that belong to that class?"
   ]
  },
  {
   "cell_type": "code",
   "execution_count": 21,
   "metadata": {},
   "outputs": [
    {
     "name": "stdout",
     "output_type": "stream",
     "text": [
      "The 1st most commonly occuring POS tag is 'NN'. The three most common words with this POS tag are: '%', 'company', and 'year'.\n",
      "The 2nd most commonly occuring POS tag is 'IN'. The three most common words with this POS tag are: 'of', 'in', and 'for'.\n",
      "The 3rd most commonly occuring POS tag is 'NNP'. The three most common words with this POS tag are: 'Mr.', 'U.S.', and 'Corp.'.\n",
      "The 4th most commonly occuring POS tag is 'DT'. The three most common words with this POS tag are: 'the', 'a', and 'The'.\n",
      "The 5th most commonly occuring POS tag is 'JJ'. The three most common words with this POS tag are: 'new', 'other', and 'last'.\n",
      "The 6th most commonly occuring POS tag is 'NNS'. The three most common words with this POS tag are: 'years', 'shares', and 'sales'.\n",
      "The 7th most commonly occuring POS tag is ','. The three most common words with this POS tag are: ',', 'underwriters', and '2'.\n",
      "The 8th most commonly occuring POS tag is '.'. The three most common words with this POS tag are: '.', '?', and '!'.\n",
      "The 9th most commonly occuring POS tag is 'CD'. The three most common words with this POS tag are: 'million', 'billion', and 'one'.\n",
      "The 10th most commonly occuring POS tag is 'RB'. The three most common words with this POS tag are: 'n't', 'also', and 'not'.\n"
     ]
    }
   ],
   "source": [
    "for index, pos in enumerate(pos_counter.most_common()[:10]):\n",
    "    answer = \"The \" + str(index+1) + count_end(index + 1) + \" most commonly occuring POS tag is '\"+ pos[0] + \"'. \"\n",
    "    \n",
    "    # Now we find thhe most common occuring words\n",
    "    words_with_pos = list(filter(lambda x: x[1] == pos[0], word_poses_tuples))\n",
    "    words_pos_counter = Counter(list(map(lambda x: x[0], words_with_pos)))\n",
    "    most_common_3_words_pos = words_pos_counter.most_common()[:3]\n",
    "    answer = answer + \"The three most common words with this POS tag are: \"\n",
    "    answer = answer + \"'\" + most_common_3_words_pos[0][0] + \"', '\" + most_common_3_words_pos[1][0] + \"', and '\" + most_common_3_words_pos[2][0] + \"'.\"\n",
    "    \n",
    "    print(answer)\n",
    "    "
   ]
  },
  {
   "cell_type": "markdown",
   "metadata": {},
   "source": [
    "**(f)** A single word may have several POS-tags. For example, *record* can be a both a **noun** *(buy a record)* or a **verb** *(record a lecture)*. This make POS-tags extremely useful for **disambiguation**.\n",
    "\n",
    "What percentage of the words in the vocabulary is **ambiguous**? (i.e. have more than one POS tag?) What are the 10 most frequent combinations of POS tags in the case of ambitguity? Which words are **most ambiguous**? Give some of them."
   ]
  },
  {
   "cell_type": "code",
   "execution_count": 22,
   "metadata": {
    "scrolled": true
   },
   "outputs": [
    {
     "name": "stdout",
     "output_type": "stream",
     "text": [
      "The percentage of ambiguous words is: 0.13469803211943 .\n",
      "\n",
      "The ten most frequent POS combinations (together with their number of occurences):\n",
      "[(('VBD', 'VBN'), 1060), (('JJ', 'NN'), 962), (('NN', 'VB'), 775), (('VB', 'VBP'), 752), (('NN', 'NNP'), 627), (('JJ', 'VBN'), 456), (('NN', 'VBP'), 403), (('NN', 'VBG'), 378), (('NNS', 'VBZ'), 364), (('JJ', 'NNP'), 297)]\n",
      "\n",
      "The top five most ambiguous words are 'close', 'much', 'cut', 'put', and 'show'.\n"
     ]
    }
   ],
   "source": [
    "from collections import defaultdict\n",
    "from itertools import combinations\n",
    "\n",
    "# Construct word_dict, a dictionary that for each word has a dictionary containing the possible tags of that word together with its number of occurances\n",
    "word_dict = defaultdict(Counter)\n",
    "for word_pos in word_poses_tuples:\n",
    "    word_dict[word_pos[0]].update([word_pos[1]])\n",
    "\n",
    "# Find the percentage of ambiguous words\n",
    "amiguous_words = []\n",
    "for word, counter in word_dict.items():\n",
    "    if len(counter.most_common()) > 1:\n",
    "        amiguous_words.append(word)\n",
    "print(\"The percentage of ambiguous words is:\", len(amiguous_words)/len(word_dict), '.')\n",
    "        \n",
    "# we consider a combination as a two POS combination\n",
    "pos_comb_counter = Counter()\n",
    "for word, counter in word_dict.items():\n",
    "    poses = [pos for pos, count in counter.most_common()]\n",
    "    poses.sort()\n",
    "    \n",
    "    # all poses combinations of length 2 of this word\n",
    "    word_pos_combinations = list(combinations(poses, 2))\n",
    "    for combination in word_pos_combinations:\n",
    "        pos_comb_counter.update([combination])\n",
    "\n",
    "print(\"\\nThe ten most frequent POS combinations (together with their number of occurences):\")\n",
    "print(pos_comb_counter.most_common(10))\n",
    "\n",
    "# let c_pos_i(a) be the number of times word a is used with pos_i\n",
    "# let c_max(a) = max count over all pos_i in POS, c_pos_i(a)\n",
    "# we consider a word a more ambigiuous than word b if\n",
    "# c_max(a) - (sum c_pos_i(a) for pos_i in POS, excluding the maximum pos )\n",
    "\n",
    "most_ambiguous = []\n",
    "for word, counter in word_dict.items():\n",
    "    # we grab the count of the most frequent POS for word\n",
    "    c_max_a = word_dict[word].most_common(1)[0][1]\n",
    "    # and subtract the counts of the rest\n",
    "    others = sum([count for pos, count in word_dict[word].most_common()[1:]])\n",
    "    most_ambiguous.append((word, c_max_a - others))\n",
    "most_ambiguous.sort(key=lambda x: x[1])\n",
    "\n",
    "answer = \"\\nThe top five most ambiguous words are \"\n",
    "for i in range(4):\n",
    "    answer += \"'\" + most_ambiguous[i][0] + \"', \"\n",
    "answer += 'and ' + \"'\" + most_ambiguous[4][0] + \"'.\"\n",
    "print(answer)"
   ]
  },
  {
   "cell_type": "markdown",
   "metadata": {},
   "source": [
    "**(g)**  Print some of these words with their multiple POS-tags. Do you **understand the ambiguity**? Use figure 10.1 mentioned above to interpret the POS-tags."
   ]
  },
  {
   "cell_type": "code",
   "execution_count": 23,
   "metadata": {},
   "outputs": [
    {
     "name": "stdout",
     "output_type": "stream",
     "text": [
      "Top five most ambiguous words and their POS tags:\n",
      "- the word 'close' has POS tags ['VB', 'NN', 'RB', 'JJ', 'VBP']\n",
      "- the word 'much' has POS tags ['RB', 'JJ', 'NN']\n",
      "- the word 'cut' has POS tags ['VB', 'NN', 'VBN', 'VBD', 'VBP', 'JJ']\n",
      "- the word 'put' has POS tags ['VB', 'VBD', 'VBN', 'NN', 'VBP', 'JJ']\n",
      "- the word 'show' has POS tags ['VB', 'NN', 'VBP', 'VBZ']\n"
     ]
    }
   ],
   "source": [
    "print(\"Top five most ambiguous words and their POS tags:\")\n",
    "for word, ambiguity_count in most_ambiguous[:5]:\n",
    "    answer = \"- \"\n",
    "    answer += \"the word '\" + word + \"' has POS tags \"\n",
    "    answer += str([pos for pos, count in word_dict[word].most_common()])\n",
    "    print(answer)  "
   ]
  },
  {
   "cell_type": "markdown",
   "metadata": {},
   "source": [
    "**(h)** Ambiguous words do not account for a great percentage of the vocabulary. Yet they are among the most commonly occuring words of the English language. What **percentage of the dataset is ambiguous**?"
   ]
  },
  {
   "cell_type": "code",
   "execution_count": 24,
   "metadata": {},
   "outputs": [
    {
     "name": "stdout",
     "output_type": "stream",
     "text": [
      "The percentage of the data set which is ambiguous is 0.5507900580064375.\n"
     ]
    }
   ],
   "source": [
    "no_ambiguous_words = 0 # number of occurences of ambiguous words\n",
    "for word in amiguous_words:\n",
    "    no_ambiguous_words += word_counter[word]\n",
    "\n",
    "# The result is hence the divisionof thhe number of ambiguous words by the size of the corpus, wich was computed for part (a)\n",
    "print(\"The percentage of the data set which is ambiguous is \" + str(no_ambiguous_words/corpus_size) + \".\")"
   ]
  },
  {
   "cell_type": "markdown",
   "metadata": {},
   "source": [
    "## Exercise 1.2 (10 points, 5 per subquestion)"
   ]
  },
  {
   "cell_type": "markdown",
   "metadata": {},
   "source": [
    "You are also provided with another file called **sec00.gold.tagged**. \n",
    "Section 00 of the Penn Treebank is typically used as development data."
   ]
  },
  {
   "cell_type": "markdown",
   "metadata": {},
   "source": [
    "**(a)** How many **unseen words** are present in the development data (i.e., words that have not occurred in the training data)?"
   ]
  },
  {
   "cell_type": "code",
   "execution_count": 25,
   "metadata": {
    "scrolled": false
   },
   "outputs": [
    {
     "name": "stdout",
     "output_type": "stream",
     "text": [
      "Number of unseen words: 1288\n"
     ]
    }
   ],
   "source": [
    "dev_word_poses_tuples = []\n",
    "dev_word_poses = []\n",
    "dev_word_counter = Counter()\n",
    "with open(\"sec00.gold.tagged\") as file:\n",
    "    # word_poses is a list of strings with elements of the form \"word|POS\"\n",
    "    dev_word_poses = []\n",
    "    for line in file:\n",
    "        dev_word_poses += line.strip().split()\n",
    "    \n",
    "    # So the size of the corpus is the length of the word_poses -- no requirement to print it\n",
    "    dev_corpus_size = len(dev_word_poses)\n",
    "    # print(\"The dev corpus is \" + str(dev_corpus_size) + \" tokens long.\")\n",
    "    \n",
    "    for word_pos in dev_word_poses:\n",
    "        word, pos = word_pos.split(\"|\")\n",
    "        dev_word_poses_tuples.append((word, pos))\n",
    "        dev_word_counter.update([word])\n",
    "\n",
    "# IMPORTANT: We consider unseen words in the original ortography \n",
    "unseen_words = set()\n",
    "for word, count in dev_word_counter.most_common():\n",
    "    if word not in word_counter:\n",
    "        unseen_words.add(word)\n",
    "print(\"Number of unseen words:\", len(unseen_words))"
   ]
  },
  {
   "cell_type": "markdown",
   "metadata": {},
   "source": [
    "**(b)** What are the three **POS tag categories** that the most **unseen words** belong to?"
   ]
  },
  {
   "cell_type": "code",
   "execution_count": 26,
   "metadata": {
    "scrolled": true
   },
   "outputs": [
    {
     "name": "stdout",
     "output_type": "stream",
     "text": [
      "Three most common POS for unseen words:\n",
      "[('NNP', 815), ('JJ', 258), ('NN', 210)]\n"
     ]
    }
   ],
   "source": [
    "unseen_pos_counter = Counter()\n",
    "for word, pos in dev_word_poses_tuples:\n",
    "    if word in unseen_words:\n",
    "        unseen_pos_counter.update([pos])\n",
    "\n",
    "print(\"Three most common POS for unseen words:\")\n",
    "print(unseen_pos_counter.most_common(3))"
   ]
  },
  {
   "cell_type": "markdown",
   "metadata": {},
   "source": [
    "# 2. Language Models\n",
    "\n",
    "This part of the lab will be covered in the Wednesday lecture. If you have prior exposure to NLP, go ahead and finish this part! If you don't, start anyway, and this part will be clear after the lecture. \n",
    "\n",
    "Reference **chapter 4** of J&M *Language Modeling with N-Grams*. \n",
    "\n",
    "----------\n",
    "\n",
    "Models that assign **probabilities** to **sequences of words** are called language **language\n",
    "modelels** or **LMs**. The simplest model that assigns probabilities to sentences and sequences of words is the **N-gram** model.\n",
    "\n",
    "Recall that an *N*-gram language model uses **conditional probabilities** of the form\n",
    "    \n",
    "$$P(w_k \\mid w_{k-N+1} \\dots w_{k-1})$$\n",
    "\n",
    "to **approximate** the full **joint probability**\n",
    "\n",
    "$$P(w_1 \\dots w_n)$$\n",
    "\n",
    "of a sequence of words $w_1 \\dots w_n$.\n",
    "\n",
    "The easiest way of obtaining estimates for the probabilities $P(w_k \\mid w_{k-N+1} \\dots w_{k-1})$ is to use the **maximum likelihood estimate** or **MLE**, a widely used statistical estimation method ([read more]((https://en.wikipedia.org/wiki/Maximum_likelihood_estimation)). You count and normalize:\n",
    "\n",
    "$$P_{MLE}(w_k \\mid w_{k-N+1} \\dots w_{k-1}) = \\frac{C(w_{k-N+1} \\dots w_{k-1} w_k)}{C(w_{k-N+1} \\dots w_{k-1})}.$$\n",
    "\n",
    "\n",
    "## Exercise 2.1 (25 points)\n",
    "\n",
    "**(a) ** Complete the function `train_ngram` so that you can train a count-based $N$-gram language model on the data found in `data/ted-train.txt` and train this for $N=2,3,4$. **15 points**\n",
    "\n",
    "**(b) ** Extend the function above so that it accepts a parameter `k` for optional add-$k$ smoothing. **10 points**\n",
    "\n",
    "**[Datastructure hint]** If you store the smoothed language in a naive manner (that is, to store *all* the numbers separately) your datastructure will get huge! If $V$ is the vocabulary then the smoothed bigram model assigns probabilities to $|V|^2$ entries. If $|V|$ is around 80k, the naive way requires you to store more than 64 billion floats. Yet almost all of these are actually just $P(w_n|w_{n-1}) = \\frac{k}{N + k|V|}$, with $k$ the value with which you smooth and $N=C(w_{n-1})$. Think about how you use this fact to make your model work in practice."
   ]
  },
  {
   "cell_type": "markdown",
   "metadata": {},
   "source": [
    "**[Python hint]** The `collections` library has another useful datastructure: the `defaultdict`. Some example uses:"
   ]
  },
  {
   "cell_type": "code",
   "execution_count": 27,
   "metadata": {},
   "outputs": [
    {
     "data": {
      "text/plain": [
       "0.0"
      ]
     },
     "execution_count": 27,
     "metadata": {},
     "output_type": "execute_result"
    }
   ],
   "source": [
    "from collections import defaultdict\n",
    "\n",
    "d = defaultdict(float)\n",
    "d[\"new key\"]"
   ]
  },
  {
   "cell_type": "markdown",
   "metadata": {},
   "source": [
    "Compare that to an ordinary dictionary:"
   ]
  },
  {
   "cell_type": "code",
   "execution_count": 28,
   "metadata": {},
   "outputs": [
    {
     "ename": "KeyError",
     "evalue": "'new key'",
     "output_type": "error",
     "traceback": [
      "\u001b[0;31m---------------------------------------------------------------------------\u001b[0m",
      "\u001b[0;31mKeyError\u001b[0m                                  Traceback (most recent call last)",
      "\u001b[0;32m<ipython-input-28-b8ace26bc60b>\u001b[0m in \u001b[0;36m<module>\u001b[0;34m()\u001b[0m\n\u001b[1;32m      1\u001b[0m \u001b[0md\u001b[0m \u001b[0;34m=\u001b[0m \u001b[0mdict\u001b[0m\u001b[0;34m(\u001b[0m\u001b[0;34m)\u001b[0m\u001b[0;34m\u001b[0m\u001b[0m\n\u001b[0;32m----> 2\u001b[0;31m \u001b[0md\u001b[0m\u001b[0;34m[\u001b[0m\u001b[0;34m\"new key\"\u001b[0m\u001b[0;34m]\u001b[0m\u001b[0;34m\u001b[0m\u001b[0m\n\u001b[0m",
      "\u001b[0;31mKeyError\u001b[0m: 'new key'"
     ]
    }
   ],
   "source": [
    "d = dict()\n",
    "d[\"new key\"]"
   ]
  },
  {
   "cell_type": "markdown",
   "metadata": {},
   "source": [
    "Other datatypes as `default_factory`:"
   ]
  },
  {
   "cell_type": "code",
   "execution_count": null,
   "metadata": {},
   "outputs": [],
   "source": [
    "d = defaultdict(int)\n",
    "d[\"new key\"]"
   ]
  },
  {
   "cell_type": "code",
   "execution_count": null,
   "metadata": {},
   "outputs": [],
   "source": [
    "d = defaultdict(list)\n",
    "d[\"new key\"]"
   ]
  },
  {
   "cell_type": "markdown",
   "metadata": {},
   "source": [
    "Converting an already existing `dict`:"
   ]
  },
  {
   "cell_type": "code",
   "execution_count": null,
   "metadata": {},
   "outputs": [],
   "source": [
    "d1 = {k: \"value\" for k in range(1, 11)}\n",
    "d = defaultdict(float, d1) # convert it to a defaultdict\n",
    "print(d[5])\n",
    "print(d[100])"
   ]
  },
  {
   "cell_type": "markdown",
   "metadata": {},
   "source": [
    "This doesn't work:"
   ]
  },
  {
   "cell_type": "code",
   "execution_count": null,
   "metadata": {},
   "outputs": [],
   "source": [
    "d = defaultdict(10)"
   ]
  },
  {
   "cell_type": "markdown",
   "metadata": {},
   "source": [
    "Use a `lambda` to make the number `10` `callable`\":"
   ]
  },
  {
   "cell_type": "code",
   "execution_count": null,
   "metadata": {},
   "outputs": [],
   "source": [
    "d = defaultdict(lambda: 10)\n",
    "d[\"new key\"]"
   ]
  },
  {
   "cell_type": "code",
   "execution_count": null,
   "metadata": {},
   "outputs": [],
   "source": [
    "d = defaultdict(lambda: defaultdict(float))\n",
    "d[\"new key\"]"
   ]
  },
  {
   "cell_type": "markdown",
   "metadata": {},
   "source": [
    "Clever use of a `defaultdict` can be the solution to the problem of data-storing in a smoothing $N$-gram pointed out above:\n",
    "    \n",
    "    ngram = defaultdict(lambda: k/(N+kV), ngram)"
   ]
  },
  {
   "cell_type": "markdown",
   "metadata": {},
   "source": [
    "The following function is given:"
   ]
  },
  {
   "cell_type": "code",
   "execution_count": 30,
   "metadata": {},
   "outputs": [],
   "source": [
    "train_file = \"ted-train.txt\"\n",
    "\n",
    "def read(fname, max_lines=np.inf):\n",
    "    \"\"\"\n",
    "    Reads in the data in fname and returns it as\n",
    "    one long list of words. Also returns a vocabulary in\n",
    "    the form of a word2index and index2word dictionary.\n",
    "    \"\"\"\n",
    "    data = []\n",
    "    # w2i will automatically keep a counter to asign to new words\n",
    "    w2i = defaultdict(lambda: len(w2i))\n",
    "    i2w = dict()\n",
    "    start = \"<s>\"\n",
    "    end = \"</s>\"\n",
    "    \n",
    "    with open(fname, \"r\") as fh:\n",
    "        for k, line in enumerate(fh):\n",
    "            if k > max_lines:\n",
    "                break\n",
    "            words = line.strip().split()\n",
    "            # assign an index to each word\n",
    "            for w in words:\n",
    "                i2w[w2i[w]] = w # trick\n",
    "            \n",
    "            sent = [start] + words + [end]\n",
    "            data.append(sent)\n",
    "\n",
    "    return data, w2i, i2w"
   ]
  },
  {
   "cell_type": "code",
   "execution_count": 31,
   "metadata": {},
   "outputs": [
    {
     "name": "stdout",
     "output_type": "stream",
     "text": [
      "defaultdict(<class 'float'>, {',': 0.25, 'start': 0.05, 'are': 0.05, 'have': 0.05, '--': 0.1, 'can': 0.05, '.': 0.1, 'going': 0.05, 'begin': 0.05, 'and': 0.2, 'in': 0.05})\n",
      "defaultdict(<class 'float'>, {'anti-protons': 0.25, 'leptons': 0.25, 'neutrons': 0.5})\n",
      "defaultdict(<function train_ngram.<locals>.<lambda>.<locals>.<lambda> at 0x8d6232fc>, {',': 7.70940676114973e-05, 'start': 2.5698022537165765e-05, 'are': 2.5698022537165765e-05, 'have': 2.5698022537165765e-05, '--': 3.854703380574865e-05, 'can': 2.5698022537165765e-05, '.': 3.854703380574865e-05, 'going': 2.5698022537165765e-05, 'begin': 2.5698022537165765e-05, 'and': 6.424505634291442e-05, 'in': 2.5698022537165765e-05})\n",
      "defaultdict(<function train_ngram.<locals>.<lambda>.<locals>.<lambda> at 0x76f520bc>, {'anti-protons': 2.5703306730410867e-05, 'leptons': 2.5703306730410867e-05, 'neutrons': 3.85549600956163e-05})\n"
     ]
    }
   ],
   "source": [
    "def train_ngram(data, N, k=0):\n",
    "    \"\"\"\n",
    "    Trains an n-gram language model with optional add-k smoothing\n",
    "    and additionaly returns the unigram model\n",
    "\n",
    "    :param data: text-data as returned by read\n",
    "    :param N: (N>1) the order of the ngram e.g. N=2 gives a bigram\n",
    "    :param k: optional add-k smoothing\n",
    "    :returns: ngram and unigram\n",
    "    \"\"\"\n",
    "    ngram = defaultdict(Counter) # ngram[history][word] = #(history,word)\n",
    "    unpacked_data = [word for sent in data for word in sent]\n",
    "    unigram = defaultdict(float, Counter(unpacked_data)) # default prob is 0.0        \n",
    "    \n",
    "    # start with the unigram model\n",
    "    uni_freq = Counter(unpacked_data)\n",
    "    \n",
    "    if N == 2 or N == 3:\n",
    "        bi_freq = Counter()\n",
    "        for index in range(0, len(unpacked_data) - 1):\n",
    "            bi_freq.update([tuple([unpacked_data[index], unpacked_data[index + 1]])])\n",
    "    \n",
    "    if N == 3 or N == 4:\n",
    "        tri_freq = Counter()\n",
    "        for index in range(0, len(unpacked_data) - 2):\n",
    "            tri_freq.update([tuple([unpacked_data[index], unpacked_data[index + 1], unpacked_data[index + 2]])])\n",
    "    \n",
    "    if N == 4 or N == 5:\n",
    "        quad_freq = Counter()\n",
    "        for index in range(0, len(unpacked_data) - 3):\n",
    "            quad_freq.update([tuple([unpacked_data[index], unpacked_data[index + 1], unpacked_data[index + 2], unpacked_data[index + 3]])])\n",
    "    \n",
    "    \n",
    "    # default probability is 0.0 by default\n",
    "    unigram = defaultdict(float)\n",
    "    bigram = defaultdict(lambda: defaultdict(float))\n",
    "    trigram = defaultdict(lambda: defaultdict(float))\n",
    "    quadgram = defaultdict(lambda: defaultdict(float))\n",
    "    \n",
    "    token_count = len(unpacked_data)\n",
    "    # just so that implementation of smoothing is easier:\n",
    "    V = 0\n",
    "    if k > 0:\n",
    "        # default probability is k/(N+kV)\n",
    "        V = len(uni_freq) # vocabulary size\n",
    "        unigram = defaultdict(lambda N=token_count : k/(N+k*V))\n",
    "        bigram = defaultdict(lambda: defaultdict(lambda N=token_count : k/(N+k*V)))\n",
    "        trigram = defaultdict(lambda: defaultdict(lambda N=token_count : k/(N+k*V))) \n",
    "        quadgram = defaultdict(lambda: defaultdict(lambda N=token_count : k/(N+k*V))) \n",
    "        \n",
    "    # unigram\n",
    "    for key, count in uni_freq.most_common():\n",
    "        unigram[key] = (count + k)/(token_count + V*k)\n",
    "        \n",
    "    # print(unigram[\"close\"])\n",
    "        \n",
    "    # bigram\n",
    "    if N == 2:\n",
    "        for key, count in bi_freq.most_common():\n",
    "            bigram[tuple([key[0]])][key[1]] = (count + k)/(uni_freq[key[0]] + V*k)\n",
    "        ngram = bigram\n",
    "        \n",
    "        # NOTE THE TRAILING \",\"\n",
    "        #print(bigram[(\"close\",)])\n",
    "        #print(bigram[(\"close\",)][\"to\"])\n",
    "    \n",
    "    # trigram\n",
    "    if N == 3:\n",
    "        for key, count in tri_freq.most_common():\n",
    "            trigram[tuple([key[0], key[1]])][key[2]] = (count + k)/(bi_freq[(key[0], key[1])] + V*k)\n",
    "        ngram = trigram\n",
    "        \n",
    "        #print(trigram[(\"close\", \"to\")])\n",
    "        #print(trigram[(\"close\", \"to\")][\"the\"])\n",
    "\n",
    "    # quadgram\n",
    "    if N == 4:\n",
    "        for key, count in quad_freq.most_common():\n",
    "            quadgram[tuple(key[0], key[1], key[2])][key[3]] = (count + k)/(tri_freq[(key[0], key[1], key[2])] + V*k)\n",
    "        ngram = quadgram\n",
    "        \n",
    "        #print(\"quadrigram\")\n",
    "        #print(quadgram[(\"close\", \"to\", \"the\")])\n",
    "        #print(quadgram[(\"close\", \"to\", \"the\")][\"edge\"])\n",
    "       \n",
    "    return ngram, unigram\n",
    "\n",
    "data, w2i, i2w = read(train_file)\n",
    "\n",
    "# for next questions:\n",
    "bigram, unigram = train_ngram(data, N=2, k=0)\n",
    "trigram, unigram = train_ngram(data, N=3, k=0)\n",
    "print(bigram[(\"protons\",)])\n",
    "print(trigram[(\"protons\",\"and\")])\n",
    "\n",
    "smooth_bigram, smooth_unigram = train_ngram(data, N=2, k=1)\n",
    "smooth_trigram, smooth_unigram = train_ngram(data, N=3, k=1)\n",
    "print(smooth_bigram[(\"protons\",)])\n",
    "print(smooth_trigram[(\"protons\",\"and\")])"
   ]
  },
  {
   "cell_type": "code",
   "execution_count": 32,
   "metadata": {},
   "outputs": [
    {
     "data": {
      "text/plain": [
       "['<s>',\n",
       " 'Both',\n",
       " 'are',\n",
       " 'necessary',\n",
       " ',',\n",
       " 'but',\n",
       " 'it',\n",
       " 'can',\n",
       " 'be',\n",
       " 'too',\n",
       " 'much',\n",
       " 'of',\n",
       " 'a',\n",
       " 'good',\n",
       " 'thing',\n",
       " '.',\n",
       " '</s>']"
      ]
     },
     "execution_count": 32,
     "metadata": {},
     "output_type": "execute_result"
    }
   ],
   "source": [
    "data[2]"
   ]
  },
  {
   "cell_type": "markdown",
   "metadata": {},
   "source": [
    "## Exercise 2.2 (5 points)\n",
    "\n",
    "You can use an *N*-gram language model to **generate text**. The higher the order *N* the better your model will be able to catch the long-range dependecies that occur in actual sentences and the better your changes are at generating sensible text. But beware: **sparsity** of language data will quickly cause your model to reproduce entire lines from your training data; in such cases only one $w_k$ was observed for the histories $w_{k-N+1}\\dots w_{k-1}$ in the entire training-set.\n",
    "\n",
    "**Complete** the function `generate_sent`. It takes a language model `lm` and an order `N` and should generate a sentence by **sampling** from the language model.\n",
    "\n",
    "**[Hint]** You can use the method of [inverse transform sampling](https://en.wikipedia.org/wiki/Inverse_transform_sampling) to generate a sample from a **categorical distribution**, $p_1\\dots p_k$ such that $p_i \\geq 0$ and $\\sum_{i=1}^k p_i = 1$, as follows:"
   ]
  },
  {
   "cell_type": "code",
   "execution_count": 33,
   "metadata": {},
   "outputs": [
    {
     "name": "stdout",
     "output_type": "stream",
     "text": [
      "3\n",
      "Counter({1: 506, 0: 207, 2: 199, 3: 88})\n"
     ]
    }
   ],
   "source": [
    "from random import random\n",
    "\n",
    "P = [0.2,0.5,0.2,0.1]\n",
    "\n",
    "def sample(P):\n",
    "    u = random() # uniformly random number between 0 and 1\n",
    "    p = 0\n",
    "    for i, p_i in enumerate(P):\n",
    "        # I fixed the function\n",
    "        p += p_i\n",
    "        if p > u: \n",
    "            return i # the first i s.t. p1 + ... + pi > u\n",
    "        \n",
    "print(sample(P))\n",
    "\n",
    "print(Counter([sample(P) for i in range(1000)])) # check to see if the law of large numbers is still true"
   ]
  },
  {
   "cell_type": "markdown",
   "metadata": {},
   "source": [
    "Inverse transform sampling in the words of Jurafsky and Martin:\n",
    "\n",
    "> Imagine all the words of the English language covering the probability space\n",
    "between 0 and 1, each word covering an interval proportional to its frequency. We\n",
    "choose a random value between 0 and 1 and print the word whose interval includes\n",
    "this chosen value.\n",
    "\n",
    "(J&M, section 4.3)"
   ]
  },
  {
   "cell_type": "code",
   "execution_count": 34,
   "metadata": {},
   "outputs": [
    {
     "name": "stdout",
     "output_type": "stream",
     "text": [
      "['<s>', 'I', \"'m\", 'going', 'to', 'avoid', 'it', 'represent', 'the', 'green', 'revolution', 'that', 'we', \"'ve\", 'overrun', 'some', 'of', 'food', ',', 'but', 'what', 'the', 'realization', 'that', 'it', '.', '</s>']\n"
     ]
    }
   ],
   "source": [
    "def generate_sent(lm, N):\n",
    "    sentence = list()\n",
    "    word = \"<s>\"\n",
    "    sentence.append(word)\n",
    "    \n",
    "    def model_to_distribution_word_list(lm):\n",
    "        distribution = []\n",
    "        words = []\n",
    "        for key in lm:\n",
    "            distribution.append(lm[key])\n",
    "            words.append(key)\n",
    "        return distribution, words\n",
    "    \n",
    "    # we assume lm is a distribution over all of the words with words as keys\n",
    "    unigram_dist, unigram_words = model_to_distribution_word_list(lm)\n",
    "    while word != \"</s>\":\n",
    "        if N == 1:\n",
    "            word = unigram_words[sample(unigram_dist)]\n",
    "        else:\n",
    "            # we use negative for splicing\n",
    "            last_words_index = -(N-1)\n",
    "            # we use bigram when len(sentence) == 1\n",
    "            # we use trigram when len(sentence) == 2, etc.\n",
    "            while abs(last_words_index) > len(sentence):\n",
    "                last_words_index += 1\n",
    "            previous_words = tuple(sentence[last_words_index:])\n",
    "            # we first get the distribution we want to condition on\n",
    "            dist = lm[previous_words]\n",
    "            # and then we split up that distribution to the actual distribution as list\n",
    "            #  as well as the list of words in the same order (we might get different orders each time).\n",
    "            ngram_dist, ngram_words = model_to_distribution_word_list(dist)\n",
    "            # finally we sample the distribution and map it to a word\n",
    "            word = ngram_words[sample(ngram_dist)]\n",
    "        sentence.append(word)\n",
    "        \n",
    "    return sentence\n",
    "\n",
    "sent = generate_sent(bigram, 2)\n",
    "print(sent)"
   ]
  },
  {
   "cell_type": "markdown",
   "metadata": {},
   "source": [
    "### [Optional]\n",
    "\n",
    "For how many of the histories $w_{k-N+1}\\dots w_{k-1}$ is the number of continuations $w_n$ equal to **one**? Calculate the percentage of such cases for the different orders *N*.\n",
    "\n",
    "And which history has the **most possible continuations**?"
   ]
  },
  {
   "cell_type": "code",
   "execution_count": 35,
   "metadata": {},
   "outputs": [],
   "source": [
    "### ANSWER ###"
   ]
  },
  {
   "cell_type": "markdown",
   "metadata": {},
   "source": [
    "## Excercise 2.3 (5 points)\n",
    "\n",
    "Let $V$ denote our vocabulary. Recall that for any $w$ in $V$ `bigram[w]` defines a conditional probability $p(v|w)$ over $v$ in $V$. In the case of an **unsmoothed bigram**, $p(v|w) = 0$ for most $v\\in V$, whereas in the **smoothed bigram** smoothing took care that $p(v|w) \\geq 0$ for *all* $v$.\n",
    "\n",
    "The function `plot_bigram_dist(word, bigram, smoothbigram, k=30)` plots shows $p(v|word)$ for the `k` words $v$. One bar shows the probabilities in `bigram` and one in `smoothbigram`. \n",
    "\n",
    "**(a)** Use this function to plot the distribution for at least two words `w` and answer the questions\n",
    "* What is the effect of smoothing on the bigram distribution of frequent words? \n",
    "* What is the effect in the case of infrequent words?\n",
    "* Explain the difference between the two based on the raw counts of `w` \n",
    "\n",
    "**(b)** Now experiment with $k$ much smaller than 1 (but greater than 0!) \n",
    "* What are the effects?\n",
    "\n",
    "\n",
    "**[Hint]** Remember that add-1 smoothing turns \n",
    "$$P(w_n\\mid w_{n-1}) = \\frac{C(w_{n-1}w_{n})}{C(w_{n-1})}$$\n",
    "into\n",
    "$$P_{add-1}(w_n\\mid w_{n-1}) = \\frac{C(w_{n-1}w_{n}) + 1}{C(w_{n-1}) + |V|}.$$\n",
    "\n",
    "What happens when $C(w_{n-1})$ is relatively big (similiar in of size as $ |V| $)? And what if $C(w_{n-1})$ is small? "
   ]
  },
  {
   "cell_type": "code",
   "execution_count": 36,
   "metadata": {},
   "outputs": [],
   "source": [
    "import pandas as pd\n",
    "import seaborn as sns    \n",
    "\n",
    "def plot_bigram_dist(word, bigram, smoothbigram, k=30):\n",
    "    d = bigram[word]\n",
    "    ds = smoothbigram[word]\n",
    "    \n",
    "    # sort the probabilities\n",
    "    d_sort = sorted(d.items(), reverse=True, key=lambda t: t[1])[0:k]\n",
    "    ds_sort = sorted(ds.items(), reverse=True, key=lambda t: t[1])[0:k]\n",
    "    \n",
    "    _, probs = zip(*d_sort)\n",
    "    smooth_ws, smooth_probs = zip(*ds_sort)\n",
    "    \n",
    "    # make up for the fact that in the unsmoothed case  probs is generally less than k long\n",
    "    probs = probs + (0,) * (k-len(probs)) \n",
    "\n",
    "    w_data = pd.DataFrame({\"w\": smooth_ws * 2,\n",
    "                           \"P({}|w)\".format(word): probs + smooth_probs,\n",
    "                           \"smoothing\": [\"unsmoothed\"]*k + [\"smoothed\"]*k})\n",
    "    \n",
    "    fig, ax = plt.subplots(figsize=(10,10))\n",
    "    plt.xticks(rotation=90)\n",
    "    g = sns.barplot(ax=ax, x=\"w\", y=\"P({}|w)\".format(word), hue=\"smoothing\",\n",
    "                    data=w_data, palette=\"Blues_d\")    "
   ]
  },
  {
   "cell_type": "code",
   "execution_count": 37,
   "metadata": {},
   "outputs": [
    {
     "data": {
      "image/png": "[encoded data removed]",
      "text/plain": [
       "<matplotlib.figure.Figure at 0xa5889bcc>"
      ]
     },
     "metadata": {},
     "output_type": "display_data"
    },
    {
     "data": {
      "image/png": "[encoded data removed]",
      "text/plain": [
       "<matplotlib.figure.Figure at 0x91b9e8ac>"
      ]
     },
     "metadata": {},
     "output_type": "display_data"
    },
    {
     "data": {
      "image/png": "[encoded data removed]",
      "text/plain": [
       "<matplotlib.figure.Figure at 0x91b840cc>"
      ]
     },
     "metadata": {},
     "output_type": "display_data"
    },
    {
     "data": {
      "image/png": "[encoded data removed]",
      "text/plain": [
       "<matplotlib.figure.Figure at 0x8a7fad2c>"
      ]
     },
     "metadata": {},
     "output_type": "display_data"
    }
   ],
   "source": [
    "# comment in/out\n",
    "# plots for k=1\n",
    "plot_bigram_dist((\"close\",), bigram, smooth_bigram, 30)\n",
    "plot_bigram_dist((\"<s>\",), bigram, smooth_bigram, 30)\n",
    "\n",
    "#plots for k=0.01\n",
    "bigram_smoothed_001, unigram_smoothed_001 = train_ngram(data, N=2, k=0.01)\n",
    "plot_bigram_dist((\"close\",), bigram, bigram_smoothed_001)\n",
    "plot_bigram_dist((\"<s>\",), bigram, bigram_smoothed_001)"
   ]
  },
  {
   "cell_type": "markdown",
   "metadata": {},
   "source": [
    "a)\n",
    "What is the effect of smoothing on the bigram distribution of frequent words?\n",
    "- Given a frequent word w, then the probability of all observed v in V, lets call them v_seen, p(v_seen|w) becomes less after smoothing. The more c(v_seen) then relatively p(v_seen|w) decreses more.\n",
    "\n",
    "What is the effect in the case of infrequent words?\n",
    "- Given an infrequent word w. p(v_seen|w) becomes almost the smoothing factor.\n",
    "\n",
    "Explain the difference between the two based on the raw counts of w\n",
    "- If w is a frequent word (c(w) >> k*|V|) then the effect of smoothing will have less effect on the distribution. When c(w) << k*|V|, which is usually the case, then the distribution will change dramatically since we \"intruduced\" K*|V| elements to a distribution which originally had much less elements. I.e. it becomes more uniform.\n",
    "\n",
    "\n",
    "b)\n",
    "- With a k << 1 then then we don't introduce as many elements to the distribution so the relative probability decrease becomes almost nonexistent but still we gain the benifit of p(v|w)>0 for all v in V."
   ]
  },
  {
   "cell_type": "markdown",
   "metadata": {},
   "source": [
    "\n",
    "**Recall** that if we have a sentence $w_1,\\dots,w_n$ we can write\n",
    "\n",
    "$$P(w_1\\dots w_n) = P(w_1)P(w_2|w_1) \\cdots P(w_i|w_1 \\dots w_{n-1}) \\approx P(w_1)P(w_2|w_1)\\cdots P(w_{N-1}|w_1\\dots w_{N-2})\\prod_{i=N}^{n} P(w_i|w_{i-(N-1)}\\dots w_{i-1})$$\n",
    "\n",
    "where in the last step we make an $N$-gram approximation of the full conditionals.\n",
    "\n",
    "For example, in the case of a bigram (N=2), the above expression reduces to\n",
    "\n",
    "$$P(w_1 \\dots w_n)\\approx P(w_1)\\prod_{i=2}^{n} P(w_i| w_{i-1}).$$\n",
    "\n",
    "## Exercise 2.4 (5 points)\n",
    "\n",
    "The following sentences are taken from the **training data**. Use your **unsmoothed unigram**, **bigram**, and **trigram** language model to estimate their **probabilities**:\n",
    "\n",
    "    1. Every day was about creating something new .\n",
    "    2. In this machine , a beam of protons and anti-protons are accelerated to near the speed of light and brought \n",
    "       together in a collision , producing a burst of pure energy .\n",
    "\n",
    "**Repeat** this with the **smoothed (add-1)** versions of the N-grams. What is the effect of smoothing on the probabilities?\n"
   ]
  },
  {
   "cell_type": "code",
   "execution_count": 38,
   "metadata": {},
   "outputs": [
    {
     "name": "stdout",
     "output_type": "stream",
     "text": [
      "Those are the triagram probabilities for each given sentence (using unsmoothened model languages):\n",
      "- for sentence 1: 6.037560695238005e-13\n",
      "- for sentence 2: 2.9710372188682472e-33\n",
      "\n",
      "Those are the triagram probabilities for each given sentence (using smoothened model languages):\n",
      "- for sentence 1: 8.978876519286289e-34\n",
      "- for sentence 2: 6.183414281667493e-137\n"
     ]
    }
   ],
   "source": [
    "sentence1 = \"Every day was about creating something new .\".split()\n",
    "sentence2 = \"In this machine , a beam of protons and anti-protons are accelerated to near the speed of light and brought together in a collision , producing a burst of pure energy .\".split()\n",
    "#print(sentence1)\n",
    "#print(sentence2)\n",
    "\n",
    "def compute_prob_of_sentence(sentence, unigram, bigram, trigram):\n",
    "    # we start by using the unigram and bigram\n",
    "    prob = unigram[sentence1[0]] * bigram[tuple([sentence1[0]])][sentence1[1]]\n",
    "    for x in range(0, len(sentence) - 2):\n",
    "        prob *= trigram[tuple([sentence[x], sentence[x+1]])][sentence[x+2]] \n",
    "        \n",
    "    return prob\n",
    "\n",
    "# compute the trigram prob of the sentence:\n",
    "print(\"Those are the triagram probabilities for each given sentence (using unsmoothened model languages):\")\n",
    "print(\"- for sentence 1:\", compute_prob_of_sentence(sentence1, unigram, bigram, trigram))\n",
    "print(\"- for sentence 2:\", compute_prob_of_sentence(sentence2, unigram, bigram, trigram))\n",
    "\n",
    "print(\"\\nThose are the triagram probabilities for each given sentence (using smoothened model languages):\")\n",
    "print(\"- for sentence 1:\", compute_prob_of_sentence(sentence1, smooth_unigram, smooth_bigram, smooth_trigram))\n",
    "print(\"- for sentence 2:\", compute_prob_of_sentence(sentence2, smooth_unigram, smooth_bigram, smooth_trigram))\n",
    "\n",
    "# What is the effect of smoothing on the probabilities?\n",
    "# - The probabilities of the sentences decreases when we introduce smoothing. It decreases dramatically with the length of the sentence."
   ]
  },
  {
   "cell_type": "markdown",
   "metadata": {},
   "source": [
    "- The probabilities of the sentences decreases when we introduce smoothing. It decreases dramatically with the length of the sentence."
   ]
  },
  {
   "cell_type": "markdown",
   "metadata": {},
   "source": [
    "## Exercise 2.5 (5 points)\n",
    "\n",
    "The above sentences were taken from the training set, hence they will all have probability greater than 0. The big challenge for our language model are of course with sentence that contain unseen N-grams: if such an N-gram occurs our model immediately assigns the sentence probability zero.\n",
    "\n",
    "The following three senteces are taken from the **test set** availlable in the file **ted-test.txt**. What probabilities do your smoothed and unsmoothed language models asign in this case?\n",
    "\n",
    "    1. Because these robots are really safe .\n",
    "    2. We have sheer nothingness on one side , and we have this vision of a reality that encompasses every \n",
    "       conceivable world at the other extreme : the fullest possible reality , nothingness , the simplest possible \n",
    "       reality ."
   ]
  },
  {
   "cell_type": "code",
   "execution_count": 44,
   "metadata": {},
   "outputs": [
    {
     "name": "stdout",
     "output_type": "stream",
     "text": [
      "Those are the triagram probabilities for each given sentence (using unsmoothened model languages):\n",
      "- for sentence 1: 0.0\n",
      "- for sentence 2: 0.0\n",
      "\n",
      "Those are the triagram probabilities for each given sentence (using smoothened model languages):\n",
      "- for sentence 1: 5.862181500992888e-37\n",
      "- for sentence 2: 7.694564649677878e-188\n"
     ]
    }
   ],
   "source": [
    "sentence1 = \"Because these robots are really safe .\".split()\n",
    "sentence2 = \"We have sheer nothingness on one side , and we have this vision of a reality that encompasses every conceivable world at the other extreme : the fullest possible reality , nothingness , the simplest possible reality .\".split()\n",
    "#print(sentence1)\n",
    "#print(sentence2)\n",
    "\n",
    "# compute the trigram prob of the sentence:\n",
    "print(\"Those are the triagram probabilities for each given sentence (using unsmoothened model languages):\")\n",
    "print(\"- for sentence 1:\", compute_prob_of_sentence(sentence1, unigram, bigram, trigram))\n",
    "print(\"- for sentence 2:\", compute_prob_of_sentence(sentence2, unigram, bigram, trigram))\n",
    "\n",
    "print(\"\\nThose are the triagram probabilities for each given sentence (using smoothened model languages):\")\n",
    "print(\"- for sentence 1:\", compute_prob_of_sentence(sentence1, smooth_unigram, smooth_bigram, smooth_trigram))\n",
    "print(\"- for sentence 2:\", compute_prob_of_sentence(sentence2, smooth_unigram, smooth_bigram, smooth_trigram))\n",
    "\n",
    "# What is the effect of smoothing on the probabilities?\n",
    "# - The probabilities of the sentences decreases when we introduce smoothing. It decreases dramatically with the length of the sentence."
   ]
  },
  {
   "cell_type": "markdown",
   "metadata": {},
   "source": [
    "- The probabilities of the sentences are 0 in the unsmooth cases as they contain parts which we have not seen before. In the smoothing case the sentences have a probability greater than 0."
   ]
  },
  {
   "cell_type": "markdown",
   "metadata": {},
   "source": [
    "### [Optional]\n",
    "\n",
    "**Optional** What percentage of the sentences in the test set get assigned probability 0 under your smoothed and unsmoothed language models? "
   ]
  },
  {
   "cell_type": "code",
   "execution_count": 40,
   "metadata": {},
   "outputs": [],
   "source": [
    "### ANSWER HERE ###"
   ]
  },
  {
   "cell_type": "markdown",
   "metadata": {},
   "source": [
    "## Exercise 2.6 (5 points)\n",
    "\n",
    "**Perplexity** is very frequently used **metric** for evaluating probabilistic models such as language models. The perplexity (sometimes called **PP** for short) of a language model on a sentence is the **inverse probability** of the sentence, **normalized** by the number of words:\n",
    "\n",
    "$$PP(w_1 \\dots w_n) = P(w_1\\dots w_n)^{-\\frac{1}{n}}.$$\n",
    "\n",
    "Here we can again approximate $P(w_1 \\dots w_n)$ with N-gram probabilities, as above.\n",
    "Note: $(x_1\\cdots x_n)^{-\\frac{1}{n}}$ is the **geometric mean** of the numbers $x_1,\\dots,x_n$. It is like the (regular) artithmetic mean, but with **products** instead of **sums**. The geometric mean is a more natural choice in the case of *PP* because behind $P(w_1\\dots w_n)$ is a series of $n$ products ([more here](https://en.wikipedia.org/wiki/Geometric_mean)).\n",
    "\n",
    "\n",
    "\n",
    "Compute the perplexity of the training sentences from excercise 2.1. What big difference between the **probabilities** of the sentences and the **perplexities** of the sentences do you notice?"
   ]
  },
  {
   "cell_type": "code",
   "execution_count": 53,
   "metadata": {},
   "outputs": [
    {
     "name": "stdout",
     "output_type": "stream",
     "text": [
      "Those are the triagram perplexities for each given sentence (using unsmoothened model languages):\n",
      "- for sentence 1: 33.68156877498604\n",
      "- for sentence 2: 10.38655731846437\n",
      "\n",
      "Those are the triagram perplexities for each given sentence (using smoothened model languages):\n",
      "- for sentence 1: 13515.970964026863\n",
      "- for sentence 2: 18051.94967910995\n"
     ]
    }
   ],
   "source": [
    "sentence1 = \"Every day was about creating something new .\".split()\n",
    "sentence2 = \"In this machine , a beam of protons and anti-protons are accelerated to near the speed of light and brought together in a collision , producing a burst of pure energy .\".split()\n",
    "\n",
    "def compute_perplexity_of_sentence(sentence, unigram, bigram, trigram):\n",
    "    prob = compute_prob_of_sentence(sentence, unigram, bigram, trigram)\n",
    "    N = len(sentence)\n",
    "    \n",
    "    pp = 0\n",
    "    if prob:\n",
    "        pp = prob**(-1/N)\n",
    "        \n",
    "    return pp\n",
    "\n",
    "# compute the trigram pp of the sentence:\n",
    "print(\"Those are the triagram perplexities for each given sentence (using unsmoothened model languages):\")\n",
    "print(\"- for sentence 1:\", compute_perplexity_of_sentence(sentence1, unigram, bigram, trigram))\n",
    "print(\"- for sentence 2:\", compute_perplexity_of_sentence(sentence2, unigram, bigram, trigram))\n",
    "\n",
    "print(\"\\nThose are the triagram perplexities for each given sentence (using smoothened model languages):\")\n",
    "print(\"- for sentence 1:\", compute_perplexity_of_sentence(sentence1, smooth_unigram, smooth_bigram, smooth_trigram))\n",
    "print(\"- for sentence 2:\", compute_perplexity_of_sentence(sentence2, smooth_unigram, smooth_bigram, smooth_trigram))"
   ]
  },
  {
   "cell_type": "markdown",
   "metadata": {},
   "source": [
    "We notice that an increase of the probability corresponds to a decrease of the perplexity; this observation imply that the task of minimising the perplexity corresponds to the maximisation of the (test set) probability."
   ]
  },
  {
   "cell_type": "markdown",
   "metadata": {},
   "source": [
    "# That's it!\n",
    "\n",
    "Congratulations, you have made it to the end of the tutorial. Here we will recap the gist of this notebook. \n",
    "\n",
    "**Make sure all your cells can be executed and all your answers are there. Then, read on if you're interested!**\n",
    "\n",
    "-----\n",
    "\n",
    "By now you should have a solid feeling for the problem of **sparsity in language data**; there's just never enough data. For the task of language modelling, we saw that sparsity is a serious challenge. \n",
    "\n",
    "It would be great to be able to model $p(w_n|w_1 \\dots w_{n-1})$ for unlimited $n$: the larger $n$ the better our language model should become at capturing the long-range dependencies between words that characterize actual human sentences, and the more probability our model will asign to such sentences as opposed to sentences that are word-soup. But in the N-gram approach, increasing $n$ will quickly kill all generalizing abilities of the model: the model will start to asign probabilities only to sentences it has seen in the training data.\n",
    "\n",
    "So, where to go from here? Here are three directions that we could head in.\n",
    "\n",
    "### Smoothing\n",
    "\n",
    "We have seen one example of smoothing in this lab: add-k smoothing. This is an easy method, both conceptually and implementation-wise. But the results are not great, and the effects it has on the distributions can be extreme.\n",
    "\n",
    "A much more sophisticated method of smoothing is so-called **Kneser-Ney smoothing**. The method is described in detail in section 4.5 of J&M (3rd edition). This is one of the best performing N-gram smoothing methods, and up to a few years ago a popular implementation of it called [KenLM](https://kheafield.com/code/kenlm/) gave state of the art results.\n",
    "\n",
    "### From words to characters\n",
    "\n",
    "In this lab we have considered language modeling as the task of predicting a **word** $w_n$ based on a history of **words** $w_1\\cdots w_n$. What if instead we let our basic units of modelling be **characters**? The task then becomes to model $p(c_k\\mid c_{k-N-1}\\dots c_{k-1})$ where each $c_i$ is now an ASCII character instead of an entire word.\n",
    "\n",
    "Suddenly sparsity of data is no longer a problem! The set of characters to use is tiny (< 100) compared to even a small-sized vocabulary as today. Have a look at this very illustrative notebook written by Yoav Golberg to see such a method in action: [The unreasonable effectiveness of Character-level Language Models](http://nbviewer.jupyter.org/gist/yoavg/d76121dfde2618422139).\n",
    "\n",
    "(So what is the downside?)\n",
    "\n",
    "\n",
    "### Neural language models\n",
    "\n",
    "The above notebook was actually written as a response to this blog post by Andrej Karpathy: [The Unreasonable Effectiveness of Recurrent Neural Networks](http://karpathy.github.io/2015/05/21/rnn-effectiveness/). Go ahead and read it if you haven't already: it is a superb introduction to the topic of Recurrent Neural Networks.\n",
    "\n",
    "Neural language models solve the problem of data sparsity in a different manner. Instead of estimating the probabilities $p(w_k\\mid w_{k-N-1}\\dots w_{k-1})$ by counting occurences in the data, they use a neural network $f_{\\theta}$ parametrized by parameters $\\theta$ to predict this probability. The parameters $\\theta$ are learned through optimization. \n",
    "\n",
    "The simplest approach goes like this: each word in the history $w_{k-N-1}\\dots w_{k-1}$ is embedded separately giving  vectors $e_{k-N-1}\\dots e_{k-1}$ and then concatenated into one long vectors $[e_{k-N-1};\\dots ;e_{k-1}]$. The network then uses this history vector to predict a probability distribution over words $w$ in the vocabulary $V$:\n",
    "\n",
    "$$p(w \\mid w_{k-N-1}\\dots w_{k-1}) = f_{\\theta}([e_{k-N-1};\\dots;e_{k-1}]).$$\n",
    "\n",
    "(In order to produce legitimate probabilities the final layer of such a network will be for example a $softmax$.)\n",
    "\n",
    "This provides a solution to the sparsity problem by having the network let the individual embeddings of the words in the history interact through its non-linear transforamtion. We are letting the network figure out the smoothing itself!\n",
    "\n",
    "RNNs are a clever extension of this idea, where a hidden state vector $h$ is re-used and updated at each step $k$ in order to store the information of the entire history up to step $k-1$. That is, an RNN actually does away with the N-order approximation; it tries to model the full conditional directly! That means that\n",
    "\n",
    "$$p(w \\mid w_1\\dots w_{k-1}) \\approx RNN_{\\theta}([e_{k-1};h_{k-1}])$$\n",
    "\n",
    "where the hidden state $h_{k-1}$ is a compression of the *entire history* $w_1\\dots w_{k-1}$.\n",
    "\n",
    "Another great place to learn about RNNs, their problems, and solutions to those, is on the blog of [Christopher Olah](http://colah.github.io/posts/2015-08-Understanding-LSTMs/). The project on language modelling will involve learning more about these methods. \n",
    "\n",
    "-----------\n",
    "(And now, it's time to read the classic essay by Eugene Wigner that gave both of the posts their title: [The Unreasonable Effectiveness of Mathematics in the Natural Sciences](http://www.dartmouth.edu/~matc/MathDrama/reading/Wigner.html))"
   ]
  }
 ],
 "metadata": {
  "anaconda-cloud": {},
  "kernelspec": {
   "display_name": "Python 3",
   "language": "python",
   "name": "python3"
  },
  "language_info": {
   "codemirror_mode": {
    "name": "ipython",
    "version": 3
   },
   "file_extension": ".py",
   "mimetype": "text/x-python",
   "name": "python",
   "nbconvert_exporter": "python",
   "pygments_lexer": "ipython3",
   "version": "3.5.2"
  }
 },
 "nbformat": 4,
 "nbformat_minor": 1
}
